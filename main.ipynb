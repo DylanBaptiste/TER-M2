{
 "cells": [
  {
   "cell_type": "code",
   "execution_count": 79,
   "metadata": {},
   "outputs": [
    {
     "name": "stderr",
     "output_type": "stream",
     "text": [
      "Some layers from the model checkpoint at camembert-base were not used when initializing TFCamembertModel: ['lm_head']\n",
      "- This IS expected if you are initializing TFCamembertModel from the checkpoint of a model trained on another task or with another architecture (e.g. initializing a BertForSequenceClassification model from a BertForPreTraining model).\n",
      "- This IS NOT expected if you are initializing TFCamembertModel from the checkpoint of a model that you expect to be exactly identical (initializing a BertForSequenceClassification model from a BertForSequenceClassification model).\n",
      "Some layers of TFCamembertModel were not initialized from the model checkpoint at camembert-base and are newly initialized: ['roberta/pooler/dense/kernel:0', 'roberta/pooler/dense/bias:0']\n",
      "You should probably TRAIN this model on a down-stream task to be able to use it for predictions and inference.\n"
     ]
    }
   ],
   "source": [
    "import os\n",
    "import numpy as np\n",
    "import pandas as pd\n",
    "import tensorflow as tf\n",
    "from tensorflow.keras.layers import *\n",
    "from tensorflow.keras import Sequential, Model\n",
    "from IPython.display import display\n",
    "\n",
    "import nltk\n",
    "from nltk.stem import WordNetLemmatizer\n",
    "from nltk.tokenize import RegexpTokenizer\n",
    "from nltk.corpus import stopwords\n",
    "\n",
    "from transformers import TFCamembertModel, CamembertTokenizer, CamembertConfig\n",
    "config = CamembertConfig.from_pretrained(\"camembert-base\", output_hidden_states=False)\n",
    "camembert = TFCamembertModel.from_pretrained(\"camembert-base\", config=config)\n",
    "tokenizer = CamembertTokenizer.from_pretrained(\"camembert-base\")\n",
    "\n",
    "from matplotlib import pyplot as plt"
   ]
  },
  {
   "cell_type": "code",
   "execution_count": null,
   "metadata": {},
   "outputs": [],
   "source": [
    "# TODO :\n",
    "# faire une base d'eval en plus de train et test\n",
    "# implementer un vrai systeme d'epoch avec tf.dataset\n",
    "# ajouter les données non supervisées au discriminateur => extraction des feature des texte non labelisé à faire du coup\n",
    "# annulation de la loss du label parametrable (lors de l'utilisation des data non supervisé), faisable en ajoutant des boolean au discriminateur faisant office de mask"
   ]
  },
  {
   "cell_type": "markdown",
   "metadata": {},
   "source": [
    "Definition des models"
   ]
  },
  {
   "cell_type": "code",
   "execution_count": 181,
   "metadata": {},
   "outputs": [
    {
     "data": {
      "text/plain": [
       "<tf.Tensor: shape=(2, 768), dtype=float32, numpy=\n",
       "array([[ 0.00872201, -0.08576084,  0.02685545, ..., -0.08810259,\n",
       "         0.01628955,  0.07871353],\n",
       "       [ 0.00422954, -0.088924  ,  0.02005177, ..., -0.10487126,\n",
       "        -0.00174042,  0.05995808]], dtype=float32)>"
      ]
     },
     "metadata": {},
     "output_type": "display_data"
    }
   ],
   "source": [
    "class CustomCamemBERT(tf.keras.Model):\n",
    "\tdef __init__(self, camembert, tokenizer):\n",
    "\t\tsuper().__init__()\n",
    "\t\tself.tokenizer = tokenizer\n",
    "\t\tself.cam = camembert\n",
    "\t\tself.GAP = GlobalAveragePooling1D()\n",
    "\n",
    "\tdef call(self, inputs):\n",
    "\t\tl = tf.reshape(tf.convert_to_tensor(()), (0, 768))\n",
    "\t\tfor sentence in inputs:\n",
    "\t\t\t# print(\"\\nSentence:\", sentence)\n",
    "\t\t\tencoded_sentence = tf.constant([tokenizer.encode(tokenizer.tokenize(sentence))], dtype=tf.int32)\n",
    "\t\t\t# print(\"Sentence encoded:\", encoded_sentence.numpy())\n",
    "\t\t\tx = self.cam(encoded_sentence).last_hidden_state\n",
    "\t\t\t# print(x)\n",
    "\t\t\tx = self.GAP(x)\n",
    "\t\t\t# x = tf.reduce_mean(x, axis=1)\n",
    "\t\t\t# print(\"x\", x)\n",
    "\t\t\tl = tf.concat([l, x], 0)\n",
    "\t\t# print(\"l\", l)\n",
    "\t\treturn l\n",
    "\n",
    "# tokenized_sentence = tokenizer.tokenize(\"J'aime le camembert !\")\n",
    "# encoded_sentence = tf.constant([tokenizer.encode(tokenizer.tokenize(\"J'aime le camembert !\"))], dtype=tf.int32)\n",
    "\n",
    "# print(encoded_sentence)\n",
    "# camembert(encoded_sentence)\n",
    "\n",
    "def generator(latent_dim):\n",
    "\tnoise = Input(shape=(latent_dim,), dtype=tf.float32)\n",
    "\tlabel = Input(shape=(1,), dtype=tf.float32)\n",
    "\t\n",
    "\tmodel = Sequential()\n",
    "\tmodel.add(Dense(256, input_dim=latent_dim))\n",
    "\tmodel.add(Dense(768))\n",
    "\n",
    "\tlabel_embedding = Flatten()(Embedding(2, latent_dim)(label))\n",
    "\tmodel_input = multiply([noise, label_embedding])\n",
    "\n",
    "\tout = model(model_input)\n",
    "\n",
    "\treturn Model([noise, label], out)\n",
    "\n",
    "def discriminator():\n",
    "\thidden_rep = Input(shape=(768,), dtype=tf.float32)\n",
    "\n",
    "\tmodel = Sequential()\n",
    "\tmodel.add(Dense(256, input_dim=768))\n",
    "\tmodel.add(Dense(2))\n",
    "\tmodel.add(Activation(\"sigmoid\"))\n",
    "\t\n",
    "\tout = model(hidden_rep)\n",
    "\n",
    "\treturn Model(hidden_rep, out)\n",
    "\n",
    "NLP_model = CustomCamemBERT(camembert, tokenizer)\n",
    "NLP_model.trainable = False\n",
    "\n",
    "# display(model(\"J'aime le camembert !\"))\n",
    "display(NLP_model([\"J'aime pas le camembert !\", \"J'aime le camembert !\"]))\n",
    "\n",
    "# sup1 = sup[sup[:, 1] == 1, :]\n",
    "# sup0 = sup[sup[:, 1] == 0, :]\n",
    "\n",
    "\n",
    "# a = select_real_samples(sup1, 2)"
   ]
  },
  {
   "cell_type": "markdown",
   "metadata": {},
   "source": [
    "1. Préparation des données et feature extraction"
   ]
  },
  {
   "cell_type": "code",
   "execution_count": 67,
   "metadata": {},
   "outputs": [],
   "source": [
    "if(os.path.isfile('./featured.csv')):\n",
    "    sup = pd.read_csv(\"./featured.csv\", header=None, converters={0: pd.eval}).to_numpy()\n",
    "else:\n",
    "    sup = pd.read_csv(\"./supervise.csv\")\n",
    "    # display(sup.head())\n",
    "    sup = sup[[\"text\", \"label_shufan\"]]\n",
    "    # display(sup.loc[sup[\"label_shufan\"] == 1][\"text\"])\n",
    "    # sup['text'] = sup['text'].apply(lambda t: tokenizer.encode(tokenizer.tokenize(t)))\n",
    "    # Feature extraction\n",
    "    #sup['text'] = sup['text'].apply(lambda t: NLP_model([t]))\n",
    "    features = NLP_model(sup[[\"text\"]].to_numpy().reshape(-1,).tolist())\n",
    "    display(sup)\n",
    "    sup['text'] = features.numpy().tolist()\n",
    "    display(sup)\n",
    "    sup.to_csv(\"./featured.csv\", header=False, index=False)\n",
    "    sup = sup.to_numpy()\n"
   ]
  },
  {
   "cell_type": "code",
   "execution_count": 24,
   "metadata": {},
   "outputs": [],
   "source": [
    "nonsup = pd.read_csv(\"./nonsupervise.csv\")"
   ]
  },
  {
   "cell_type": "code",
   "execution_count": 25,
   "metadata": {},
   "outputs": [
    {
     "name": "stdout",
     "output_type": "stream",
     "text": [
      "(1, 100) (1, 1)\n"
     ]
    },
    {
     "data": {
      "text/plain": [
       "<tf.Tensor: shape=(1, 768), dtype=float32, numpy=\n",
       "array([[-1.50462501e-02,  2.81947106e-03, -2.48659868e-04,\n",
       "         9.04818438e-03,  1.43959722e-03,  5.92272775e-03,\n",
       "         2.92083304e-02,  2.08451916e-02,  2.54929233e-02,\n",
       "        -1.42967841e-03, -1.03260502e-02,  3.14014358e-03,\n",
       "        -1.29078273e-02, -2.07776204e-04,  7.12797744e-03,\n",
       "        -1.37921656e-02,  1.04612978e-02,  8.31198134e-03,\n",
       "         8.77873972e-03,  3.02779339e-02, -9.64528788e-03,\n",
       "        -2.15467382e-02,  2.14219820e-02, -2.67564766e-02,\n",
       "         6.01750473e-03,  3.54133267e-03,  3.46554723e-03,\n",
       "        -4.11408581e-03, -1.38179157e-02,  8.54061544e-03,\n",
       "         2.57937331e-02, -6.56979345e-03, -2.42566895e-02,\n",
       "        -3.19754332e-02, -2.38035563e-02,  1.14396624e-02,\n",
       "        -2.45951675e-03, -2.18108222e-02,  6.69650733e-03,\n",
       "        -1.39648225e-02,  1.83289871e-03,  2.68397927e-02,\n",
       "         2.24219598e-02,  1.32029308e-02, -1.72211248e-02,\n",
       "         4.41803876e-03, -5.03392750e-03,  5.91528136e-03,\n",
       "        -1.42230913e-02,  1.55777112e-02,  1.45566985e-02,\n",
       "        -4.95424028e-03,  2.59555653e-02,  2.67751068e-02,\n",
       "         1.90618131e-02,  6.60166005e-03,  1.22651234e-02,\n",
       "         1.63489133e-02,  3.14157791e-02,  1.92988981e-02,\n",
       "         1.77748164e-03, -6.82262657e-03,  2.43907813e-02,\n",
       "        -7.78632658e-03,  1.73875107e-03,  6.57888688e-03,\n",
       "        -4.16027522e-03,  7.28960289e-03, -3.09978332e-02,\n",
       "         1.63531746e-03, -1.91724878e-02, -1.40002109e-02,\n",
       "        -2.15879027e-02, -2.82852235e-03,  1.11901211e-02,\n",
       "         2.72370242e-02, -1.09767588e-02,  1.04639516e-03,\n",
       "        -2.74234917e-03,  1.30560445e-02, -3.14421095e-02,\n",
       "        -1.13960495e-03, -1.83837675e-02,  7.13791512e-03,\n",
       "        -1.41208265e-02, -1.32355224e-02, -2.33856570e-02,\n",
       "        -1.47102820e-03, -2.14215182e-02, -1.30684422e-02,\n",
       "         5.96857257e-03,  1.57691054e-02, -2.02269703e-02,\n",
       "        -4.05012518e-02, -1.39076281e-02,  8.22540838e-03,\n",
       "         9.89119895e-03,  1.72163472e-02,  7.59084057e-03,\n",
       "         1.70947891e-03, -1.36247987e-03,  3.81732918e-03,\n",
       "        -5.41730272e-03, -1.90936984e-03, -1.23692807e-02,\n",
       "        -2.71321293e-02, -1.26158893e-02, -1.00737391e-02,\n",
       "        -1.85616687e-02, -7.00943125e-03, -9.14511271e-04,\n",
       "        -5.25100389e-03,  1.32992780e-02,  8.86634737e-03,\n",
       "        -6.72172196e-03,  5.91887534e-03, -1.43581405e-02,\n",
       "         1.29656466e-02, -9.72640235e-03,  9.96600837e-03,\n",
       "         1.27604082e-02,  6.18134020e-03, -9.71564837e-03,\n",
       "        -5.58276195e-03, -3.36666331e-02,  6.22136169e-04,\n",
       "         2.11888738e-02, -5.53851761e-03, -1.75096337e-02,\n",
       "         1.84914970e-03,  1.45896180e-02,  5.50117064e-03,\n",
       "        -4.40788046e-02, -1.02428524e-02, -1.16606988e-03,\n",
       "        -1.32934637e-02,  8.24780762e-03, -1.92102753e-02,\n",
       "        -1.39510492e-03, -2.04612985e-02, -4.42723860e-04,\n",
       "        -3.36926081e-03,  9.97403357e-03, -6.29671197e-03,\n",
       "         6.44145953e-03, -1.35727283e-02,  1.43481437e-02,\n",
       "         2.33192891e-02,  3.53654381e-04, -4.50631883e-03,\n",
       "        -9.97414067e-03, -2.58315224e-02, -8.14806204e-03,\n",
       "        -2.98932754e-03,  5.08363824e-03,  2.70847585e-02,\n",
       "         2.02539060e-02,  4.33306489e-03,  2.69880751e-03,\n",
       "        -4.29386832e-03,  1.38789369e-02, -9.23605822e-03,\n",
       "        -2.24678684e-02, -5.69555536e-03, -1.06486585e-02,\n",
       "        -4.17509116e-03, -1.89685505e-02, -1.10593429e-02,\n",
       "        -1.48641411e-02,  1.70084797e-02,  1.45832347e-02,\n",
       "        -1.66387437e-03, -3.33491690e-03,  9.23008192e-03,\n",
       "        -1.53744640e-03, -2.66592763e-02, -9.61516891e-03,\n",
       "         2.23038271e-02, -2.14818325e-02,  1.20938243e-02,\n",
       "        -2.59894636e-02, -1.92159170e-03,  2.51190667e-03,\n",
       "         9.28796642e-03, -5.29302610e-03,  1.05026234e-02,\n",
       "        -1.10468967e-03,  3.59040545e-03, -1.71292126e-02,\n",
       "         1.61983408e-02,  1.44495359e-02, -1.24966307e-02,\n",
       "         5.74805401e-03, -1.23279691e-02, -6.56114006e-03,\n",
       "        -1.32107381e-02, -3.28762159e-02,  1.37669023e-03,\n",
       "        -1.77521333e-02, -8.90753977e-03,  5.27858734e-03,\n",
       "         1.90922339e-02,  2.54916353e-03, -5.09560108e-03,\n",
       "        -1.11831818e-02, -2.43660936e-04, -6.65627560e-03,\n",
       "         1.62409386e-03, -1.36623625e-04,  6.09638635e-03,\n",
       "         1.14482353e-02, -3.79100675e-05, -1.01042418e-02,\n",
       "         1.63305812e-02,  6.31206390e-03,  3.00088972e-02,\n",
       "         2.17432119e-02, -2.17366684e-03,  2.94390172e-02,\n",
       "        -1.62681453e-02,  5.03521645e-03, -1.99774895e-02,\n",
       "         7.78706418e-03,  2.34585945e-02, -4.46998281e-03,\n",
       "         2.20747814e-02,  1.10852132e-02, -1.70589592e-02,\n",
       "        -3.59970890e-02, -1.66692585e-02, -1.04539003e-03,\n",
       "         4.14977930e-02, -3.13228718e-03,  1.80029180e-02,\n",
       "        -8.47247429e-05, -5.94074279e-03,  3.14944261e-03,\n",
       "         1.81497950e-02, -1.14084613e-02, -4.20572907e-02,\n",
       "         9.77474963e-04, -1.43560395e-02,  1.40269995e-02,\n",
       "        -1.81161473e-03, -6.64863084e-03, -6.39384892e-03,\n",
       "        -9.17253457e-03,  9.71839298e-03, -1.85093731e-02,\n",
       "        -1.85255762e-02,  1.12183653e-02, -7.76565587e-03,\n",
       "        -4.57126880e-03, -1.97031386e-02, -1.16750575e-03,\n",
       "         3.08369156e-02, -2.30798572e-02,  7.94859789e-03,\n",
       "         3.84403835e-03,  1.73816399e-03, -1.03139644e-02,\n",
       "         9.98026319e-03, -1.39900511e-02,  1.30750574e-02,\n",
       "        -4.17112093e-03, -7.85991363e-03,  2.64714565e-02,\n",
       "        -1.59807559e-02, -1.15348818e-02, -2.10221531e-03,\n",
       "         1.77185796e-03,  1.14951404e-02,  9.63076018e-04,\n",
       "        -1.63413305e-02, -1.66974440e-02, -1.44628733e-02,\n",
       "         3.90196219e-04, -2.24047601e-02, -1.28479274e-02,\n",
       "        -1.44883087e-02, -1.93576782e-03,  2.82257292e-02,\n",
       "         6.57929294e-03,  3.15841986e-03, -1.35245174e-02,\n",
       "         3.42282699e-03, -1.37773929e-02,  1.11654270e-02,\n",
       "        -2.41068471e-03, -1.01283286e-02,  3.06049536e-04,\n",
       "        -1.05395839e-02, -8.06322880e-03,  3.77131440e-03,\n",
       "         1.44057292e-02,  1.59748048e-02,  9.21082869e-03,\n",
       "         2.61693429e-02,  9.85226687e-03,  2.49929577e-02,\n",
       "         1.34739615e-02, -3.71922087e-03,  2.61347345e-03,\n",
       "         1.41297048e-02,  9.47065360e-04, -2.44310615e-03,\n",
       "         1.12348441e-02,  1.16785616e-02,  1.04630571e-02,\n",
       "        -1.02765355e-02,  6.48910552e-03, -1.46273966e-03,\n",
       "        -1.17917042e-02, -1.44711938e-02,  5.38091175e-04,\n",
       "        -1.03742620e-02,  3.98656121e-04,  3.05348374e-02,\n",
       "         5.87194460e-03, -2.54770424e-02,  8.72754492e-03,\n",
       "         1.35587668e-02, -3.01879423e-04,  9.92275681e-03,\n",
       "        -3.76035273e-03,  9.52700339e-03, -2.54393704e-02,\n",
       "         1.00666676e-02, -1.32705225e-03,  2.70175710e-02,\n",
       "         1.11100432e-02, -8.80693551e-05, -1.49012757e-02,\n",
       "        -2.12658606e-02,  2.84338798e-02, -1.33245392e-03,\n",
       "         2.50176899e-03,  2.01253369e-02, -9.06046666e-03,\n",
       "         4.12147073e-03,  2.77783796e-02,  5.72820567e-03,\n",
       "        -4.08390909e-03,  1.48358997e-02, -1.66460555e-02,\n",
       "         4.00906801e-02,  1.88347902e-02,  2.54422091e-02,\n",
       "        -9.08919051e-03,  5.83950523e-03,  1.90836762e-03,\n",
       "         9.91698913e-03, -2.17352714e-02, -1.26576126e-02,\n",
       "         6.89757755e-03,  1.12037314e-03, -5.38041443e-03,\n",
       "        -1.25824660e-03, -1.01220710e-02, -5.18361339e-03,\n",
       "        -2.86999289e-02, -1.40071744e-02, -3.90025112e-03,\n",
       "        -2.82718195e-03,  3.30803217e-03, -1.82204433e-02,\n",
       "         3.06907296e-03, -1.59966089e-02, -1.02114603e-02,\n",
       "        -4.48892172e-03,  4.52681351e-03,  2.39230338e-02,\n",
       "         1.06779337e-02, -4.94000176e-03,  1.26833078e-02,\n",
       "         1.77453607e-02,  2.44273040e-02,  1.28719620e-02,\n",
       "        -7.02900859e-03, -1.15068303e-03, -8.57944135e-03,\n",
       "        -1.21367187e-03,  3.92409274e-03, -8.99428781e-03,\n",
       "        -1.00238947e-03, -1.13628786e-02,  1.91283375e-02,\n",
       "         8.75226315e-03, -2.83268988e-02,  2.10125875e-02,\n",
       "         3.01861088e-03, -1.14769451e-02, -5.15353214e-03,\n",
       "        -1.33324955e-02, -1.51275564e-02, -4.34022164e-03,\n",
       "        -4.77067567e-03,  2.20720451e-02, -2.79830620e-02,\n",
       "        -3.16914171e-02,  7.88984820e-03,  2.62862444e-03,\n",
       "         3.15361097e-02, -4.72679967e-05, -7.81955197e-04,\n",
       "        -1.83479395e-02,  1.19459201e-02, -1.31644551e-02,\n",
       "         2.38082744e-02, -5.89171099e-03,  8.25643446e-03,\n",
       "        -3.76619515e-04, -2.13609971e-02,  1.85365528e-02,\n",
       "         6.12892269e-04, -6.93413010e-03,  2.17458811e-02,\n",
       "        -9.92379710e-03, -2.50612153e-03, -1.24025745e-02,\n",
       "        -5.37642324e-03,  6.45432528e-03, -1.03353579e-02,\n",
       "        -1.61387268e-02,  1.00563988e-02, -1.84539407e-02,\n",
       "        -5.34281135e-04, -2.31415103e-03,  1.13105141e-02,\n",
       "         1.70997959e-02,  9.68493428e-03, -9.16002877e-03,\n",
       "         1.71335042e-02,  1.10136699e-02,  2.29383372e-02,\n",
       "         1.72292627e-02,  2.48455666e-02,  4.66160662e-03,\n",
       "         1.50271459e-02, -2.16871183e-02,  3.78753543e-02,\n",
       "        -2.29001846e-02, -2.08820682e-03,  2.87649035e-02,\n",
       "        -7.43742683e-04,  1.02889296e-02,  6.24017138e-03,\n",
       "         2.71928832e-02,  6.69211103e-03,  1.66350859e-03,\n",
       "         6.13037497e-03,  8.25821981e-03,  1.46310758e-02,\n",
       "         8.81587248e-03,  1.71205006e-03, -8.29207525e-03,\n",
       "        -1.02185113e-02, -1.73879471e-02,  1.32650938e-02,\n",
       "         7.12594064e-03, -7.42373383e-03,  3.00808884e-02,\n",
       "         1.37927029e-02,  4.43996526e-02,  4.77285963e-03,\n",
       "         2.16813348e-02, -4.09446843e-03,  3.43218213e-03,\n",
       "        -7.20755383e-03,  6.98580290e-04,  1.08449450e-02,\n",
       "        -2.58665308e-02,  3.21741998e-02,  3.79104912e-03,\n",
       "         1.82513855e-02, -1.13111185e-02, -1.56756537e-03,\n",
       "         9.63508524e-03, -6.90671429e-03, -1.11937178e-02,\n",
       "        -1.00011919e-02,  4.14590305e-03, -4.23264131e-03,\n",
       "         5.13078831e-03, -9.80278105e-03,  3.87974009e-02,\n",
       "         3.77810933e-03, -2.93687060e-02, -2.79822107e-02,\n",
       "        -3.19854356e-03, -2.18823049e-02, -4.69993707e-03,\n",
       "        -1.89546496e-02, -1.66114755e-02, -1.85134616e-02,\n",
       "         3.81095661e-03, -1.17875999e-02,  2.01008767e-02,\n",
       "        -1.12309977e-02,  8.07390641e-03, -6.62416313e-03,\n",
       "        -1.62647460e-02,  1.88941974e-02,  2.21969746e-02,\n",
       "         2.47881724e-03, -2.35557891e-02, -1.54988915e-02,\n",
       "        -1.96246356e-02,  2.03473424e-03,  1.17064239e-02,\n",
       "         5.80408494e-04, -2.24781763e-02, -2.23041838e-03,\n",
       "         1.28649119e-02,  2.06172019e-02,  1.40662771e-02,\n",
       "         1.33237643e-02, -1.05053429e-02,  2.65976302e-02,\n",
       "        -6.65170280e-03, -2.62502823e-02, -3.42120812e-03,\n",
       "         6.77783787e-03, -1.36988806e-02,  1.23128667e-03,\n",
       "         1.34717524e-02, -3.86641473e-02, -1.09917368e-03,\n",
       "         2.08530519e-02, -8.61050002e-03, -2.72911415e-02,\n",
       "         3.28098536e-02, -6.90773781e-03,  7.49631273e-03,\n",
       "        -6.04545046e-03,  2.02209819e-02, -2.22902149e-02,\n",
       "         3.69849876e-02,  8.19452852e-03, -3.37159336e-02,\n",
       "         4.62266384e-04,  2.75886431e-03, -1.79230832e-02,\n",
       "        -1.06903855e-02, -9.60402191e-04,  2.13362090e-03,\n",
       "         1.27672181e-02, -1.07770031e-02,  4.87743504e-03,\n",
       "         1.33916028e-02, -2.82559674e-02, -5.30373957e-03,\n",
       "         1.12960569e-03,  5.49428817e-03,  7.77050992e-03,\n",
       "        -1.19539453e-02, -9.82810277e-03, -1.57037284e-02,\n",
       "        -2.18781503e-03,  2.48876363e-02, -4.03412022e-02,\n",
       "         1.57534927e-02, -3.76222730e-02,  9.89931077e-03,\n",
       "        -1.22352340e-03,  1.43309170e-03,  1.08892284e-02,\n",
       "        -3.49470356e-04, -1.06248977e-02, -1.65311620e-02,\n",
       "        -1.08050311e-03,  3.93349817e-03,  9.17933695e-03,\n",
       "        -3.45634203e-03, -1.95393581e-02, -1.71408802e-02,\n",
       "        -9.61071532e-03, -6.41806424e-03,  9.09441896e-03,\n",
       "         2.53195781e-02, -2.19553541e-02, -1.12802340e-02,\n",
       "         1.29827773e-02,  1.76327303e-05, -3.11856437e-02,\n",
       "        -2.10508183e-02,  1.09694125e-02,  1.68788433e-02,\n",
       "         1.42686791e-03, -4.43645753e-04,  2.49107033e-02,\n",
       "         8.09521647e-04, -8.36108439e-03,  5.45656914e-03,\n",
       "         1.06981816e-02,  5.52749820e-03,  1.27080735e-02,\n",
       "         7.65853422e-03,  1.93672236e-02,  2.95170792e-03,\n",
       "         6.68349490e-03, -1.49153126e-03, -2.83476021e-02,\n",
       "         9.36119631e-03, -1.79672660e-03,  2.55302060e-02,\n",
       "         1.26889991e-02,  1.89206097e-02, -4.58168192e-03,\n",
       "         1.01114661e-02, -6.08766079e-03,  1.28870113e-02,\n",
       "         4.12107166e-03, -2.42237747e-03, -3.94088216e-03,\n",
       "         1.49137573e-04,  2.33108066e-02, -3.39896581e-03,\n",
       "         5.53563517e-03,  1.83517244e-02, -4.64858860e-03,\n",
       "        -1.17088305e-02,  3.55864596e-03,  1.47281494e-02,\n",
       "         1.65255964e-02, -6.09735306e-03,  1.53648546e-02,\n",
       "        -6.91291504e-03,  1.83884818e-02,  2.18868013e-02,\n",
       "         1.41490214e-02, -1.43101849e-02,  1.81378014e-02,\n",
       "        -1.31588811e-02,  9.66932625e-04,  1.87901128e-02,\n",
       "        -1.04296412e-02, -3.92221846e-05,  3.68329957e-02,\n",
       "         6.02070987e-03,  1.18782176e-02,  8.44274554e-03,\n",
       "        -4.56086826e-03, -3.74990702e-03,  1.01699540e-03,\n",
       "        -1.89353060e-03, -8.80663283e-05, -3.86703014e-03,\n",
       "        -3.24356370e-03,  2.05579475e-02,  1.63512640e-02,\n",
       "        -2.14043725e-02, -8.66941549e-03,  8.00391473e-03,\n",
       "         5.86793153e-03,  4.08556033e-03, -3.32709067e-02,\n",
       "        -2.17914805e-02,  2.59059062e-03,  4.94999718e-03,\n",
       "        -1.48482984e-02, -1.29714897e-02,  2.86846776e-02,\n",
       "        -8.41406826e-03, -7.18405657e-03,  1.21815093e-02,\n",
       "        -6.30818354e-03, -9.66045260e-03, -1.20471306e-02,\n",
       "         3.05052418e-02, -6.74647605e-03, -1.94142945e-03,\n",
       "        -1.49087310e-02,  1.13913207e-04, -2.48297770e-02,\n",
       "        -2.25101132e-02, -1.16255591e-02, -3.01201753e-02,\n",
       "        -1.03132883e-02, -1.49171287e-03,  2.97938250e-02,\n",
       "         3.40100564e-02, -7.88214244e-03,  5.64333703e-03,\n",
       "        -1.31601642e-03, -2.14840798e-03, -1.16619403e-02,\n",
       "         1.82327889e-02,  3.16265635e-02, -1.63306706e-02,\n",
       "         2.94363406e-03,  2.14398447e-02, -4.79856459e-03,\n",
       "         7.05924258e-03,  1.45397224e-02,  9.32844263e-03,\n",
       "         1.66954973e-03,  8.72505829e-03,  1.91710480e-02,\n",
       "        -1.51940959e-03, -1.81164406e-02, -2.98476946e-02,\n",
       "        -1.67767797e-03,  2.85547748e-02,  4.02466860e-04,\n",
       "        -5.91142941e-03,  5.98523021e-03,  3.02522294e-02,\n",
       "        -9.73286759e-03, -2.30888296e-02, -2.92625977e-03,\n",
       "        -2.78377198e-02, -3.52098839e-03,  3.59782670e-03,\n",
       "         1.92097891e-02,  1.15882447e-02,  5.31052938e-03,\n",
       "         3.72923072e-03, -1.54337632e-02, -1.68007221e-02,\n",
       "        -2.09235102e-02, -8.53674673e-03,  1.06728412e-02,\n",
       "         3.34263779e-02,  2.12719124e-02, -4.57733311e-02,\n",
       "        -1.31849954e-02,  2.17628889e-02,  2.12878007e-02,\n",
       "         1.98986903e-02, -5.79358963e-03,  1.75430402e-02,\n",
       "        -8.31153244e-03,  6.76887110e-04, -2.00492796e-03,\n",
       "         1.18220914e-02,  7.94936996e-03, -6.14915648e-03,\n",
       "        -2.42343023e-02, -7.45930709e-03,  2.33142357e-03,\n",
       "        -2.69942312e-03, -5.67200710e-04,  8.19004513e-03,\n",
       "        -8.87821801e-03, -2.28275778e-03,  1.96672846e-02,\n",
       "         1.03539322e-02, -1.58141106e-02,  2.03431398e-02,\n",
       "         4.51571913e-03, -1.35850031e-02, -1.17394291e-02,\n",
       "        -1.65347643e-02, -1.67467762e-02, -6.19076658e-03,\n",
       "         1.33430045e-02, -6.63935253e-03, -7.51479017e-03,\n",
       "         8.72157514e-03,  1.43007957e-03,  1.30584138e-02,\n",
       "        -2.33981367e-02,  1.30676227e-02, -3.76899517e-03,\n",
       "         2.42553512e-03, -2.75656246e-02, -8.63103941e-03]], dtype=float32)>"
      ]
     },
     "execution_count": 25,
     "metadata": {},
     "output_type": "execute_result"
    }
   ],
   "source": [
    "latent_dim = 100\n",
    "\n",
    "\n",
    "\n",
    "def generate_noise(n_batch, latent_dim):\n",
    "\treturn np.random.randn(latent_dim * n_batch).reshape((n_batch, latent_dim))\n",
    "\n",
    "G = generator(latent_dim)\n",
    "D = discriminator()\n",
    "n_batch = 1\n",
    "noise = generate_noise(n_batch, latent_dim)\n",
    "label = np.repeat(0, n_batch).reshape(n_batch, 1)\n",
    "print(noise.shape, label.shape)\n",
    "G([noise, label])\n"
   ]
  },
  {
   "cell_type": "code",
   "execution_count": 187,
   "metadata": {},
   "outputs": [],
   "source": [
    "def generate_fake_samples(n_batch, labelN, generator, latent_dim):\n",
    "\tlabels = np.repeat(labelN, n_batch)\n",
    "\tX_fake = generator([generate_noise(n_batch, latent_dim), labels])\n",
    "\ty_fake = np.array([labels, np.repeat(0, n_batch)]).reshape(2, n_batch).T\n",
    "\treturn X_fake, y_fake\n",
    "\n",
    "def select_real_samples(n_batch, labelN, dataset):\n",
    "\tdataset = dataset[dataset[:, 1] == labelN, :]\n",
    "\tind = np.random.choice(len(dataset), size=n_batch, replace=False)\n",
    "\tlabels = np.repeat(labelN, n_batch)\n",
    "\tX_real = np.array(dataset[ind, 0].tolist())\n",
    "\ty_real =  np.array([labels, np.repeat(1, n_batch)]).reshape(2, n_batch).T\n",
    "\treturn X_real, y_real\n",
    "\n",
    "def train_d(discriminator, dataset, n_batch):\n",
    "\t# (n_batch, 768), ([label, validité])\n",
    "\tX_fake, y_fake = generate_fake_samples(n_batch, 0, generator=G, latent_dim=100)\n",
    "\td_fake_0 = discriminator.train_on_batch(X_fake, y_fake)\n",
    "\n",
    "\tX_fake, y_fake = generate_fake_samples(n_batch, 1, generator=G, latent_dim=100)\n",
    "\td_fake_1 = discriminator.train_on_batch(X_fake, y_fake)\n",
    "\n",
    "\tX_real, y_real = select_real_samples(n_batch, 0, dataset=dataset)\n",
    "\td_real_0 = discriminator.train_on_batch(X_real, y_real)\n",
    "\n",
    "\tX_real, y_real = select_real_samples(n_batch, 1, dataset=dataset)\n",
    "\td_real_1 = discriminator.train_on_batch(X_real, y_real)\n",
    "\n",
    "\treturn (1 / 4) * (d_fake_0[0] + d_fake_1[0] + d_real_0[0] + d_real_1[0])\n",
    "\n",
    "def train_g(gan, n_batch):\n",
    "\tlabels = np.repeat(1, n_batch)\n",
    "\tnoise = generate_noise(n_batch, latent_dim)\n",
    "\tg_loss_1 = gan.train_on_batch([noise, labels], np.array([labels, np.repeat(1, n_batch)]).reshape(2, n_batch).T)\n",
    "\n",
    "\tlabels = np.repeat(0, n_batch)\n",
    "\tnoise = generate_noise(n_batch, latent_dim)\n",
    "\tg_loss_0 = gan.train_on_batch([noise, labels], np.array([labels, np.repeat(1, n_batch)]).reshape(2, n_batch).T)\n",
    "\n",
    "\treturn (1 / 2) * (g_loss_1[0] + g_loss_0[0])"
   ]
  },
  {
   "cell_type": "code",
   "execution_count": 188,
   "metadata": {},
   "outputs": [
    {
     "data": {
      "text/plain": [
       "((206, 2), (38, 2))"
      ]
     },
     "execution_count": 188,
     "metadata": {},
     "output_type": "execute_result"
    }
   ],
   "source": [
    "sup_train = np.concatenate([sup[sup[:,1] == 1][:19], sup[sup[:,1] == 0][:19]])\n",
    "sup_test  = np.concatenate([sup[sup[:,1] == 1][19:], sup[sup[:,1] == 0][19:]])\n",
    "sup_test.shape, sup_train.shape"
   ]
  },
  {
   "cell_type": "code",
   "execution_count": 202,
   "metadata": {},
   "outputs": [],
   "source": [
    "tf.config.run_functions_eagerly(True)\n",
    "def label_acc(y_true, y_pred):\n",
    "    acc_l = tf.keras.metrics.BinaryAccuracy()(y_true[:,0], y_pred[:,0])\n",
    "    return acc_l\n",
    "\n",
    "def reality_acc(y_true, y_pred):\n",
    "    acc_r = tf.keras.metrics.BinaryAccuracy()(y_true[:,1], y_pred[:,1])\n",
    "    return acc_r\n",
    "\n",
    "def label_loss(y_true, y_pred):\n",
    "    loss_l = tf.keras.losses.BinaryCrossentropy()(y_true[:,0], y_pred[:,0])\n",
    "    return loss_l\n",
    "\n",
    "def reality_loss(y_true, y_pred):\n",
    "    loss_r = tf.keras.losses.BinaryCrossentropy()(y_true[:,1], y_pred[:,1])\n",
    "    return loss_r\n",
    "\n",
    "def discriminator_loss(y_true, y_pred):\n",
    "    loss_l = label_loss(y_true, y_pred)\n",
    "    loss_r = reality_loss(y_true, y_pred)\n",
    "    return ( 0.5 * loss_l ) + ( 0.5 * loss_r )\n",
    "\n",
    "def generator_loss(y_true, y_pred):\n",
    "    loss_l = label_loss(y_true, y_pred)\n",
    "    loss_r = reality_loss(y_true, y_pred)\n",
    "    return ( 0.5 * loss_l ) + ( 0.5 * loss_r )\n",
    "\n",
    "\n",
    "D = discriminator()\n",
    "D.compile(loss=discriminator_loss, metrics=[label_loss, reality_loss, label_acc, reality_acc])\n",
    "D.trainable = False\n",
    "# display(D.summary())\n",
    "\n",
    "latent_dim = 100\n",
    "G = generator(latent_dim)\n",
    "# display(G.summary())\n",
    "\n",
    "# GAN = tf.keras.Sequential([G, D], name=\"GAN\")\n",
    "# GAN.compile(loss='mse')\n",
    "# GAN(generate_noise(1, 100))\n",
    "# GAN.summary()\n",
    "\n",
    "noise = Input(shape=(latent_dim,))\n",
    "label = Input(shape=(1,))\n",
    "hidden_rep = G([noise, label])\n",
    "validity = D(hidden_rep)\n",
    "\n",
    "# connect them\n",
    "GAN = Model([noise, label], validity)\n",
    "GAN.compile(loss=generator_loss, metrics=[label_loss, reality_loss])\n",
    "\n"
   ]
  },
  {
   "cell_type": "code",
   "execution_count": 203,
   "metadata": {},
   "outputs": [
    {
     "name": "stdout",
     "output_type": "stream",
     "text": [
      "0 [0.7, 0.76, array([0.41, 0.78, 0.13, 0.3 , 1.  ]), array([0.53, 0.95, 0.13, 0.08, 1.  ])]\n",
      "1 [0.64, 0.67, array([0.38, 0.75, 0.08, 0.31, 1.  ]), array([0.5 , 0.92, 0.09, 0.11, 1.  ])]\n",
      "2 [0.65, 0.69, array([0.37, 0.75, 0.07, 0.31, 1.  ]), array([0.5 , 0.93, 0.08, 0.08, 1.  ])]\n",
      "3 [0.65, 0.66, array([0.36, 0.73, 0.07, 0.33, 1.  ]), array([0.49, 0.9 , 0.08, 0.11, 1.  ])]\n",
      "4 [0.69, 0.64, array([0.35, 0.73, 0.08, 0.33, 1.  ]), array([0.5 , 0.92, 0.08, 0.09, 1.  ])]\n",
      "5 [0.68, 0.62, array([0.35, 0.68, 0.08, 0.38, 1.  ]), array([0.47, 0.87, 0.09, 0.16, 1.  ])]\n",
      "6 [0.74, 0.59, array([0.34, 0.66, 0.09, 0.46, 1.  ]), array([0.47, 0.85, 0.09, 0.23, 1.  ])]\n",
      "7 [0.73, 0.58, array([0.34, 0.66, 0.09, 0.47, 1.  ]), array([0.48, 0.89, 0.09, 0.19, 1.  ])]\n",
      "8 [0.74, 0.59, array([0.34, 0.65, 0.09, 0.64, 1.  ]), array([0.49, 0.89, 0.09, 0.21, 1.  ])]\n",
      "9 [0.75, 0.59, array([0.33, 0.62, 0.1 , 0.64, 1.  ]), array([0.47, 0.85, 0.1 , 0.28, 1.  ])]\n",
      "10 [0.77, 0.56, array([0.33, 0.62, 0.11, 0.64, 1.  ]), array([0.48, 0.87, 0.1 , 0.28, 1.  ])]\n",
      "11 [0.75, 0.59, array([0.33, 0.63, 0.09, 0.64, 1.  ]), array([0.49, 0.91, 0.09, 0.25, 1.  ])]\n",
      "12 [0.79, 0.57, array([0.32, 0.6 , 0.1 , 0.74, 1.  ]), array([0.47, 0.86, 0.09, 0.33, 1.  ])]\n",
      "13 [0.8, 0.54, array([0.32, 0.61, 0.09, 0.72, 1.  ]), array([0.48, 0.88, 0.08, 0.3 , 1.  ])]\n",
      "14 [0.8, 0.53, array([0.31, 0.6 , 0.08, 0.74, 1.  ]), array([0.48, 0.88, 0.08, 0.33, 1.  ])]\n",
      "15 [0.81, 0.54, array([0.31, 0.59, 0.08, 0.76, 1.  ]), array([0.48, 0.88, 0.08, 0.33, 1.  ])]\n",
      "16 [0.79, 0.52, array([0.3 , 0.56, 0.08, 0.79, 1.  ]), array([0.45, 0.83, 0.08, 0.42, 1.  ])]\n",
      "17 [0.86, 0.55, array([0.3 , 0.54, 0.09, 0.82, 1.  ]), array([0.44, 0.79, 0.09, 0.48, 1.  ])]\n",
      "18 [0.83, 0.54, array([0.3 , 0.55, 0.1 , 0.87, 1.  ]), array([0.46, 0.83, 0.09, 0.4 , 1.  ])]\n",
      "19 [0.83, 0.55, array([0.29, 0.54, 0.08, 0.87, 1.  ]), array([0.45, 0.82, 0.08, 0.41, 1.  ])]\n"
     ]
    }
   ],
   "source": [
    "epochs = 20\n",
    "n_batch = 8\n",
    "hist = []\n",
    "\n",
    "for e in range(epochs):\n",
    "\td_loss = train_d(D, sup_train, n_batch)\n",
    "\tg_loss = train_g(GAN, n_batch)\n",
    "\t\n",
    "\tX = np.array(sup_train[:,0].tolist())\n",
    "\tlabels = sup_train[:,1]\n",
    "\trealite = np.ones((len(labels),))\n",
    "\ttrain_loss = D.evaluate(X, np.array([labels, realite], dtype=np.float32).T, verbose=0)\n",
    "\t\n",
    "\tX = np.array(sup_test[:,0].tolist())\n",
    "\tlabels = sup_test[:,1]\n",
    "\trealite = np.ones((len(labels),))\n",
    "\ttest_loss = D.evaluate(X, np.array([labels, realite], dtype=np.float32).T, verbose=0)\n",
    "\thist.append([d_loss, g_loss, *train_loss, *test_loss])\n",
    "\tprint(e, [np.round(g_loss, 2), np.round(d_loss, 2), np.round(train_loss, 2), np.round(test_loss, 2)])"
   ]
  },
  {
   "cell_type": "markdown",
   "metadata": {},
   "source": [
    "pour evaluer on reprend la base de donné supervisé, on ballance les feature au discriminateur sans les label et on regarde s'il trouve les meme label et qu'il dit qu'il sont des donné reel (cad données non générées)"
   ]
  },
  {
   "cell_type": "code",
   "execution_count": 204,
   "metadata": {},
   "outputs": [
    {
     "data": {
      "image/png": "[encoded data removed]",
      "text/plain": [
       "<Figure size 1152x648 with 1 Axes>"
      ]
     },
     "metadata": {
      "needs_background": "light"
     },
     "output_type": "display_data"
    },
    {
     "data": {
      "image/png": "[encoded data removed]",
      "text/plain": [
       "<Figure size 1152x648 with 1 Axes>"
      ]
     },
     "metadata": {
      "needs_background": "light"
     },
     "output_type": "display_data"
    },
    {
     "data": {
      "image/png": "[encoded data removed]",
      "text/plain": [
       "<Figure size 1152x648 with 1 Axes>"
      ]
     },
     "metadata": {
      "needs_background": "light"
     },
     "output_type": "display_data"
    },
    {
     "data": {
      "image/png": "[encoded data removed]",
      "text/plain": [
       "<Figure size 1152x648 with 1 Axes>"
      ]
     },
     "metadata": {
      "needs_background": "light"
     },
     "output_type": "display_data"
    }
   ],
   "source": [
    "hist = np.asarray(hist)\n",
    "\n",
    "plt.figure(figsize=(16, 9))\n",
    "plt.title(\"GAN D / G loss\")\n",
    "plt.plot(hist[:,0:2])\n",
    "plt.show()\n",
    "\n",
    "plt.figure(figsize=(16, 9))\n",
    "plt.title(\"Train / Test LOSS\")\n",
    "plt.plot(hist[:,[2,5]])\n",
    "plt.show()\n",
    "\n",
    "plt.figure(figsize=(16, 9))\n",
    "plt.title(\"Train / Test Label LOSS\")\n",
    "plt.plot(hist[:,[3,6]])\n",
    "plt.show()\n",
    "\n",
    "plt.figure(figsize=(16, 9))\n",
    "plt.title(\"Train / Test Reality LOSS\")\n",
    "plt.plot(hist[:,[4,7]])\n",
    "plt.show()\n"
   ]
  },
  {
   "cell_type": "code",
   "execution_count": 172,
   "metadata": {},
   "outputs": [
    {
     "name": "stdout",
     "output_type": "stream",
     "text": [
      "2/2 [==============================] - 0s 2ms/step - loss: 0.6679 - label_loss: 0.7038 - reality_loss: 0.6379\n"
     ]
    },
    {
     "data": {
      "text/plain": [
       "[0.6679286956787109, 0.7038100957870483, 0.6378899812698364]"
      ]
     },
     "execution_count": 172,
     "metadata": {},
     "output_type": "execute_result"
    }
   ],
   "source": [
    "X = np.array(sup_train[:,0].tolist())\n",
    "labels = sup_train[:,1]\n",
    "realite = np.ones((len(labels),))\n",
    "D.evaluate(X, np.array([labels, realite], dtype=np.float32).T)"
   ]
  },
  {
   "cell_type": "code",
   "execution_count": 173,
   "metadata": {},
   "outputs": [
    {
     "name": "stdout",
     "output_type": "stream",
     "text": [
      "7/7 [==============================] - 0s 1ms/step - loss: 0.6603 - label_loss: 0.6849 - reality_loss: 0.6340\n"
     ]
    },
    {
     "data": {
      "text/plain": [
       "[0.6603348851203918, 0.6849270462989807, 0.6340180039405823]"
      ]
     },
     "execution_count": 173,
     "metadata": {},
     "output_type": "execute_result"
    }
   ],
   "source": [
    "X = np.array(sup_test[:,0].tolist())\n",
    "labels = sup_test[:,1]\n",
    "realite = np.ones((len(labels),))\n",
    "D.evaluate(X, np.array([labels, realite], dtype=np.float32).T)"
   ]
  }
 ],
 "metadata": {
  "interpreter": {
   "hash": "d30491a918b2bb80bddb8df1507fb40d67bf864fa8abf51b7fc41f1e6d55db91"
  },
  "kernelspec": {
   "display_name": "Python 3.9.5 64-bit",
   "language": "python",
   "name": "python3"
  },
  "language_info": {
   "codemirror_mode": {
    "name": "ipython",
    "version": 3
   },
   "file_extension": ".py",
   "mimetype": "text/x-python",
   "name": "python",
   "nbconvert_exporter": "python",
   "pygments_lexer": "ipython3",
   "version": "3.9.7"
  },
  "orig_nbformat": 4
 },
 "nbformat": 4,
 "nbformat_minor": 2
}
