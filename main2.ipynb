{
 "cells": [
  {
   "cell_type": "code",
   "execution_count": 1,
   "metadata": {},
   "outputs": [
    {
     "name": "stderr",
     "output_type": "stream",
     "text": [
      "Some layers from the model checkpoint at camembert-base were not used when initializing TFCamembertModel: ['lm_head']\n",
      "- This IS expected if you are initializing TFCamembertModel from the checkpoint of a model trained on another task or with another architecture (e.g. initializing a BertForSequenceClassification model from a BertForPreTraining model).\n",
      "- This IS NOT expected if you are initializing TFCamembertModel from the checkpoint of a model that you expect to be exactly identical (initializing a BertForSequenceClassification model from a BertForSequenceClassification model).\n",
      "Some layers of TFCamembertModel were not initialized from the model checkpoint at camembert-base and are newly initialized: ['roberta/pooler/dense/kernel:0', 'roberta/pooler/dense/bias:0']\n",
      "You should probably TRAIN this model on a down-stream task to be able to use it for predictions and inference.\n"
     ]
    }
   ],
   "source": [
    "import os\n",
    "import numpy as np\n",
    "import pandas as pd\n",
    "import tensorflow as tf\n",
    "from tensorflow.keras.layers import *\n",
    "from tensorflow.keras import Sequential, Model\n",
    "from IPython.display import display\n",
    "\n",
    "import nltk\n",
    "from nltk.stem import WordNetLemmatizer\n",
    "from nltk.tokenize import RegexpTokenizer\n",
    "from nltk.corpus import stopwords\n",
    "\n",
    "from transformers import TFCamembertModel, CamembertTokenizer, CamembertConfig\n",
    "config = CamembertConfig.from_pretrained(\"camembert-base\", output_hidden_states=False)\n",
    "camembert = TFCamembertModel.from_pretrained(\"camembert-base\", config=config)\n",
    "tokenizer = CamembertTokenizer.from_pretrained(\"camembert-base\")\n",
    "\n",
    "from matplotlib import pyplot as plt"
   ]
  },
  {
   "cell_type": "code",
   "execution_count": null,
   "metadata": {},
   "outputs": [],
   "source": [
    "# TODO :\n",
    "# faire une base d'evaluation en plus de train et test\n",
    "# implementer un systeme d'epoch complet avec tf.dataset\n",
    "# ajouter les données non supervisées au discriminateur => extraction des feature des texte non labelisé à faire\n",
    "# annulation de la loss du label parametrable (lors de l'utilisation des data non supervisé), faisable en ajoutant des boolean au discriminateur faisant office de mask\n",
    "# Masking loss : https://stackoverflow.com/questions/64130293/custom-loss-function-in-keras-with-masking-array-as-input\n",
    "\n",
    "#multi output loss https://datascience.stackexchange.com/questions/86700/custom-loss-function-with-multiple-outputs-in-tensorflow"
   ]
  },
  {
   "cell_type": "code",
   "execution_count": 22,
   "metadata": {},
   "outputs": [
    {
     "data": {
      "text/plain": [
       "<tf.Tensor: shape=(2, 768), dtype=float32, numpy=\n",
       "array([[ 0.00872201, -0.08576084,  0.02685545, ..., -0.08810259,\n",
       "         0.01628955,  0.07871353],\n",
       "       [ 0.00422954, -0.088924  ,  0.02005177, ..., -0.10487126,\n",
       "        -0.00174042,  0.05995808]], dtype=float32)>"
      ]
     },
     "metadata": {},
     "output_type": "display_data"
    }
   ],
   "source": [
    "class CustomCamemBERT(tf.keras.Model):\n",
    "    def __init__(self, camembert, tokenizer):\n",
    "        super().__init__()\n",
    "        self.tokenizer = tokenizer\n",
    "        self.cam = camembert\n",
    "        self.GAP = GlobalAveragePooling1D()\n",
    "\n",
    "    def call(self, inputs):\n",
    "        l = tf.reshape(tf.convert_to_tensor(()), (0, 768))\n",
    "        for sentence in inputs:\n",
    "            # print(\"\\nSentence:\", sentence)\n",
    "            encoded_sentence = tf.constant([tokenizer.encode(tokenizer.tokenize(sentence))], dtype=tf.int32)\n",
    "            # print(\"Sentence encoded:\", encoded_sentence.numpy())\n",
    "            x = self.cam(encoded_sentence).last_hidden_state\n",
    "            # print(x)\n",
    "            x = self.GAP(x)\n",
    "            # x = tf.reduce_mean(x, axis=1)\n",
    "            # print(\"x\", x)\n",
    "            l = tf.concat([l, x], 0)\n",
    "        # print(\"l\", l)\n",
    "        return l\n",
    "\n",
    "# tokenized_sentence = tokenizer.tokenize(\"J'aime le camembert !\")\n",
    "# encoded_sentence = tf.constant([tokenizer.encode(tokenizer.tokenize(\"J'aime le camembert !\"))], dtype=tf.int32)\n",
    "\n",
    "# print(encoded_sentence)\n",
    "# camembert(encoded_sentence)\n",
    "def generator(latent_dim):\n",
    "    noise = Input(shape=(latent_dim,), name=\"noise_input\", dtype=tf.float32)\n",
    "    label = Input(shape=(1,), name=\"label_input\", dtype=tf.float32) \n",
    "    \n",
    "    label_embedding = Flatten()(Embedding(2, latent_dim, name=\"label_embeding\")(label))\n",
    "    model_input = Multiply(name=\"mult_label_noise\")([noise, label_embedding])\n",
    "    \n",
    "    x = Dense(256, input_dim=latent_dim)(model_input)\n",
    "    out = Dense(768, name=\"Generated_Hidden_rep\")(x)\n",
    "    \n",
    "    return Model([noise, label], out, name=\"Generator\")\n",
    "\n",
    "def discriminator():\n",
    "    hidden_rep = Input(shape=(768,), dtype=tf.float32, name=\"Hidden_rep_Input\")\n",
    "\n",
    "    x = Dense(256)(hidden_rep)\n",
    "    out = Dense(2, name=\"Prediction\", activation=\"sigmoid\")(x)    \n",
    "\n",
    "    return Model(hidden_rep, out, name=\"Discriminator\")\n",
    "\n",
    "NLP_model = CustomCamemBERT(camembert, tokenizer)\n",
    "NLP_model.trainable = False\n",
    "\n",
    "# display(model(\"J'aime le camembert !\"))\n",
    "display(NLP_model([\"J'aime pas le camembert !\", \"J'aime le camembert !\"]))\n",
    "\n",
    "# sup1 = sup[sup[:, 1] == 1, :]\n",
    "# sup0 = sup[sup[:, 1] == 0, :]\n",
    "\n",
    "\n",
    "# a = select_real_samples(sup1, 2)"
   ]
  },
  {
   "cell_type": "code",
   "execution_count": 5,
   "metadata": {},
   "outputs": [],
   "source": [
    "if(os.path.isfile('./featured.csv')):\n",
    "    sup = np.genfromtxt('featured.csv', delimiter=',')\n",
    "else:\n",
    "    sup = pd.read_csv(\"./supervise.csv\")[[\"text\", \"label_shufan\"]]\n",
    "    features = NLP_model(sup[[\"text\"]].to_numpy().reshape(-1,).tolist())\n",
    "    features = features.numpy()\n",
    "    labels = np.array([sup[\"label_shufan\"]]).T\n",
    "    sup = np.concatenate([labels, features], axis=1)\n",
    "    np.savetxt('featured.csv', sup, delimiter=\",\")\n"
   ]
  },
  {
   "cell_type": "code",
   "execution_count": 8,
   "metadata": {},
   "outputs": [],
   "source": [
    "latent_dim = 100\n",
    "def generate_noise(n_batch, latent_dim):\n",
    "    \treturn np.random.randn(latent_dim * n_batch).reshape((n_batch, latent_dim))\n",
    " \n",
    "def generate_fake_samples(n_batch, labelN, generator, latent_dim):\n",
    "\tlabels = np.repeat(labelN, n_batch)\n",
    "\tX_fake = generator([generate_noise(n_batch, latent_dim), labels])\n",
    "\ty_fake = np.array([labels, np.repeat(0, n_batch)]).reshape(2, n_batch).T\n",
    "\treturn X_fake, y_fake\n",
    "\n",
    "def select_real_samples(n_batch, labelN, dataset):\n",
    "\tdataset = dataset[dataset[:, 0] == labelN, :]\n",
    "\tind = np.random.choice(len(dataset), size=n_batch, replace=False)\n",
    "\tlabels = np.repeat(labelN, n_batch)\n",
    "\tX_real = np.array(dataset[ind, 1:].tolist())\n",
    "\ty_real =  np.array([labels, np.repeat(1, n_batch)]).reshape(2, n_batch).T\n",
    "\treturn X_real, y_real\n",
    "\n",
    "def train_d(discriminator, dataset, n_batch):\n",
    "\t# (n_batch, 768), ([label, validité])\n",
    "\tX_fake, y_fake = generate_fake_samples(n_batch, 0, generator=G, latent_dim=100)\n",
    "\td_fake_0 = discriminator.train_on_batch(X_fake, y_fake)\n",
    "\n",
    "\tX_fake, y_fake = generate_fake_samples(n_batch, 1, generator=G, latent_dim=100)\n",
    "\td_fake_1 = discriminator.train_on_batch(X_fake, y_fake)\n",
    "\n",
    "\tX_real, y_real = select_real_samples(n_batch, 0, dataset=dataset)\n",
    "\td_real_0 = discriminator.train_on_batch(X_real, y_real)\n",
    "\n",
    "\tX_real, y_real = select_real_samples(n_batch, 1, dataset=dataset)\n",
    "\td_real_1 = discriminator.train_on_batch(X_real, y_real)\n",
    "\n",
    "\treturn (1 / 4) * (d_fake_0[0] + d_fake_1[0] + d_real_0[0] + d_real_1[0])\n",
    "\n",
    "def train_g(gan, n_batch):\n",
    "\tlabels = np.repeat(1, n_batch)\n",
    "\tnoise = generate_noise(n_batch, latent_dim)\n",
    "\tg_loss_1 = gan.train_on_batch([noise, labels], np.array([labels, np.repeat(1, n_batch)]).reshape(2, n_batch).T)\n",
    "\n",
    "\tlabels = np.repeat(0, n_batch)\n",
    "\tnoise = generate_noise(n_batch, latent_dim)\n",
    "\tg_loss_0 = gan.train_on_batch([noise, labels], np.array([labels, np.repeat(1, n_batch)]).reshape(2, n_batch).T)\n",
    "\n",
    "\treturn (1 / 2) * (g_loss_1[0] + g_loss_0[0])"
   ]
  },
  {
   "cell_type": "code",
   "execution_count": 9,
   "metadata": {},
   "outputs": [
    {
     "data": {
      "text/plain": [
       "array([1., 1., 1., 1., 1., 1., 1., 1., 1., 1., 1., 1., 1., 1., 1., 1., 1.,\n",
       "       1., 1., 0., 0., 0., 0., 0., 0., 0., 0., 0., 0., 0., 0., 0., 0., 0.,\n",
       "       0., 0., 0., 0.])"
      ]
     },
     "execution_count": 9,
     "metadata": {},
     "output_type": "execute_result"
    }
   ],
   "source": [
    "sup_train = np.concatenate([sup[sup[:,0] == 1][0:19], sup[sup[:,0] == 0][0:19]])\n",
    "sup_test  = np.concatenate([sup[sup[:,0] == 1][19:38], sup[sup[:,0] == 0][19:38]])\n",
    "sup_test.shape, sup_train.shape\n",
    "sup_test[:,0]\n",
    "sup_train[:,0]"
   ]
  },
  {
   "cell_type": "code",
   "execution_count": 31,
   "metadata": {},
   "outputs": [],
   "source": [
    "tf.config.run_functions_eagerly(False)\n",
    "\n",
    "@tf.function\n",
    "def label_acc(y_true, y_pred): return  tf.keras.metrics.binary_accuracy(y_true[:,0], y_pred[:,0])\n",
    "\n",
    "@tf.function\n",
    "def reality_acc(y_true, y_pred): return tf.keras.metrics.binary_accuracy(y_true[:,1], y_pred[:,1])\n",
    "\n",
    "@tf.function\n",
    "def label_acc_g(y_true, y_pred): return  tf.keras.metrics.binary_accuracy(y_true[:,0], 1 - y_pred[:,0])\n",
    "\n",
    "@tf.function\n",
    "def reality_acc_g(y_true, y_pred): return tf.keras.metrics.binary_accuracy(y_true[:,1], 1 - y_pred[:,1])\n",
    "\n",
    "@tf.function\n",
    "def label_loss(y_true, y_pred): return tf.keras.losses.binary_crossentropy(y_true[:,0], y_pred[:,0])\n",
    "\n",
    "@tf.function\n",
    "def reality_loss(y_true, y_pred): return tf.keras.losses.binary_crossentropy(y_true[:,1], y_pred[:,1])\n",
    "\n",
    "@tf.function\n",
    "def discriminator_loss(y_true, y_pred):\n",
    "    loss_l = label_loss(y_true, y_pred)\n",
    "    loss_r = reality_loss(y_true, y_pred)\n",
    "    return ( 0.5 * loss_l ) + ( 0.5 * loss_r )\n",
    "\n",
    "@tf.function\n",
    "def generator_loss(y_true, y_pred):\n",
    "    loss_l = label_loss(y_true, 1 - y_pred)\n",
    "    loss_r = reality_loss(y_true, 1 - y_pred)\n",
    "    return ( 0.5 * loss_l ) + ( 0.5 * loss_r )"
   ]
  },
  {
   "cell_type": "code",
   "execution_count": 32,
   "metadata": {},
   "outputs": [],
   "source": [
    "D = discriminator()\n",
    "D.compile(loss=discriminator_loss, metrics=[label_loss, reality_loss, label_acc, reality_acc], optimizer=tf.keras.optimizers.RMSprop(learning_rate=0.001))\n",
    "D.trainable = False\n",
    "# display(D.summary())\n",
    "\n",
    "latent_dim = 100\n",
    "G = generator(latent_dim)\n",
    "# display(G.summary())\n",
    "\n",
    "noise = Input(shape=(latent_dim,))\n",
    "label = Input(shape=(1,))\n",
    "hidden_rep = G([noise, label])\n",
    "validity = D(hidden_rep)\n",
    "\n",
    "# connect them\n",
    "GAN = Model([noise, label], validity, name=\"GAN\")\n",
    "GAN.compile(loss=generator_loss, metrics=[label_loss, reality_loss, label_acc_g, reality_acc_g], optimizer=tf.keras.optimizers.RMSprop(learning_rate=0.001))\n",
    "\n",
    "\n",
    "hist = []"
   ]
  },
  {
   "cell_type": "code",
   "execution_count": 76,
   "metadata": {},
   "outputs": [
    {
     "data": {
      "text/plain": [
       "(20,)"
      ]
     },
     "metadata": {},
     "output_type": "display_data"
    },
    {
     "data": {
      "text/plain": [
       "(20, 100)"
      ]
     },
     "metadata": {},
     "output_type": "display_data"
    },
    {
     "data": {
      "text/plain": [
       "(20, 2)"
      ]
     },
     "metadata": {},
     "output_type": "display_data"
    },
    {
     "name": "stdout",
     "output_type": "stream",
     "text": [
      "1/1 [==============================] - 0s 280ms/step - loss: 0.6908 - label_loss: 0.6916 - reality_loss: 0.6899 - label_acc: 0.6000 - reality_acc: 0.7000\n"
     ]
    },
    {
     "data": {
      "text/plain": [
       "[0.6907682418823242,\n",
       " 0.691646158695221,\n",
       " 0.6898903846740723,\n",
       " 0.6000000238418579,\n",
       " 0.699999988079071]"
      ]
     },
     "execution_count": 76,
     "metadata": {},
     "output_type": "execute_result"
    }
   ],
   "source": [
    "glabels = np.repeat(1, 20)\n",
    "gnoise = generate_noise(20, latent_dim)\n",
    "gY = np.array([glabels, np.repeat(1, 20)]).reshape(2, 20).T\n",
    "display(glabels.shape, gnoise.shape, gY.shape)\n",
    "gX = [gnoise, glabels]\n",
    "\n",
    "G.predict(gX).shape\n",
    "# ganeval = GAN.evaluate(gX, gY)\n",
    "# GAN.predict(gX)\n",
    "D.evaluate(G.predict(gX), gY)"
   ]
  },
  {
   "cell_type": "code",
   "execution_count": 30,
   "metadata": {},
   "outputs": [
    {
     "name": "stdout",
     "output_type": "stream",
     "text": [
      "(19, 2) (19, 2)\n",
      "(19, 2) (19, 2)\n",
      "(None, 2) (None, 2)\n",
      "0 [0.68, 0.75, array([0.39, 0.74, 0.1 , 0.3 , 1.  ]), array([0.4 , 0.75, 0.1 , 0.38, 1.  ])]\n",
      "1 [0.57, 0.58, array([0.36, 0.74, 0.06, 0.3 , 1.  ]), array([0.38, 0.76, 0.06, 0.3 , 1.  ])]\n",
      "2 [0.48, 0.5, array([0.34, 0.73, 0.04, 0.3 , 1.  ]), array([0.37, 0.77, 0.04, 0.3 , 1.  ])]\n",
      "3 [0.43, 0.46, array([0.33, 0.71, 0.03, 0.31, 1.  ]), array([0.36, 0.76, 0.03, 0.3 , 1.  ])]\n",
      "4 [0.42, 0.44, array([0.32, 0.69, 0.02, 0.34, 1.  ]), array([0.36, 0.76, 0.02, 0.3 , 1.  ])]\n",
      "5 [0.39, 0.42, array([0.31, 0.68, 0.02, 0.36, 1.  ]), array([0.35, 0.75, 0.02, 0.3 , 1.  ])]\n",
      "6 [0.41, 0.41, array([0.3 , 0.66, 0.01, 0.36, 1.  ]), array([0.35, 0.75, 0.02, 0.31, 1.  ])]\n",
      "7 [0.39, 0.4, array([0.29, 0.65, 0.01, 0.38, 1.  ]), array([0.35, 0.75, 0.01, 0.31, 1.  ])]\n",
      "8 [0.39, 0.41, array([0.29, 0.64, 0.01, 0.46, 1.  ]), array([0.34, 0.74, 0.01, 0.33, 1.  ])]\n",
      "9 [0.42, 0.4, array([0.28, 0.63, 0.01, 0.53, 1.  ]), array([0.34, 0.74, 0.01, 0.34, 1.  ])]\n",
      "10 [0.38, 0.4, array([0.28, 0.62, 0.01, 0.54, 1.  ]), array([0.34, 0.74, 0.01, 0.34, 1.  ])]\n",
      "11 [0.39, 0.39, array([0.27, 0.61, 0.01, 0.53, 1.  ]), array([0.34, 0.74, 0.01, 0.44, 1.  ])]\n",
      "12 [0.41, 0.38, array([0.27, 0.59, 0.01, 0.66, 1.  ]), array([0.34, 0.73, 0.01, 0.43, 1.  ])]\n",
      "13 [0.39, 0.37, array([0.26, 0.58, 0.  , 0.69, 1.  ]), array([0.34, 0.73, 0.01, 0.43, 1.  ])]\n",
      "14 [0.39, 0.38, array([0.26, 0.57, 0.  , 0.77, 1.  ]), array([0.34, 0.73, 0.  , 0.43, 1.  ])]\n",
      "15 [0.41, 0.37, array([0.25, 0.57, 0.  , 0.77, 1.  ]), array([0.34, 0.73, 0.  , 0.43, 1.  ])]\n",
      "16 [0.39, 0.37, array([0.25, 0.56, 0.  , 0.79, 1.  ]), array([0.34, 0.73, 0.  , 0.43, 1.  ])]\n",
      "17 [0.39, 0.37, array([0.24, 0.55, 0.  , 0.79, 1.  ]), array([0.34, 0.73, 0.  , 0.43, 1.  ])]\n",
      "18 [0.4, 0.36, array([0.24, 0.54, 0.  , 0.79, 1.  ]), array([0.34, 0.73, 0.  , 0.43, 1.  ])]\n",
      "19 [0.38, 0.36, array([0.23, 0.53, 0.  , 0.87, 1.  ]), array([0.33, 0.73, 0.  , 0.51, 1.  ])]\n"
     ]
    }
   ],
   "source": [
    "epochs = 20\n",
    "n_batch = 19\n",
    "\n",
    "for e in range(epochs):\n",
    "\td_loss = train_d(D, sup_train, n_batch)\n",
    "\tg_loss = train_g(GAN, n_batch)\n",
    "\n",
    "\tX = sup_train[:,1:]\n",
    "\tlabels = np.array(sup_train[:,0], dtype=np.float32)\n",
    "\trealite = np.ones((len(labels),), dtype=np.float32)\n",
    "\ttrain_loss = D.evaluate(X, np.array([labels, realite]).T, verbose=0)\n",
    "\n",
    "\tX = sup_test[:,1:]\n",
    "\tlabels = np.array(sup_test[:,0], dtype=np.float32)\n",
    "\trealite = np.ones((len(labels),), dtype=np.float32)\n",
    "\ttest_loss = D.evaluate(X, np.array([labels, realite]).T, verbose=0)\n",
    "\n",
    "\tlabels = np.repeat(1, 100)\n",
    "\tnoise = generate_noise(100, latent_dim)\n",
    "\tganeval = GAN.evaluate([noise, labels], np.array([labels, np.repeat(1, 100)]).reshape(2, 100).T)\n",
    "\n",
    "\thist.append([d_loss, g_loss, *train_loss, *test_loss])\n",
    "\tprint(e, [np.round(g_loss, 2), np.round(d_loss, 2), np.round(train_loss, 2), np.round(test_loss, 2)])"
   ]
  }
 ],
 "metadata": {
  "interpreter": {
   "hash": "965104f1edf7c4e5421268b5d37993f2ff4c909c062cee112af76de1d2eec7da"
  },
  "kernelspec": {
   "display_name": "Python 3.9.7 64-bit",
   "language": "python",
   "name": "python3"
  },
  "language_info": {
   "codemirror_mode": {
    "name": "ipython",
    "version": 3
   },
   "file_extension": ".py",
   "mimetype": "text/x-python",
   "name": "python",
   "nbconvert_exporter": "python",
   "pygments_lexer": "ipython3",
   "version": "3.9.7"
  },
  "orig_nbformat": 4
 },
 "nbformat": 4,
 "nbformat_minor": 2
}
