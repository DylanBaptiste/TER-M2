{
 "cells": [
  {
   "cell_type": "code",
   "execution_count": 3,
   "metadata": {},
   "outputs": [
    {
     "name": "stderr",
     "output_type": "stream",
     "text": [
      "Some layers from the model checkpoint at camembert-base were not used when initializing TFCamembertModel: ['lm_head']\n",
      "- This IS expected if you are initializing TFCamembertModel from the checkpoint of a model trained on another task or with another architecture (e.g. initializing a BertForSequenceClassification model from a BertForPreTraining model).\n",
      "- This IS NOT expected if you are initializing TFCamembertModel from the checkpoint of a model that you expect to be exactly identical (initializing a BertForSequenceClassification model from a BertForSequenceClassification model).\n",
      "Some layers of TFCamembertModel were not initialized from the model checkpoint at camembert-base and are newly initialized: ['roberta/pooler/dense/kernel:0', 'roberta/pooler/dense/bias:0']\n",
      "You should probably TRAIN this model on a down-stream task to be able to use it for predictions and inference.\n"
     ]
    }
   ],
   "source": [
    "import os\n",
    "import numpy as np\n",
    "import pandas as pd\n",
    "import tensorflow as tf\n",
    "from tensorflow.keras.layers import *\n",
    "from tensorflow.keras import Sequential, Model\n",
    "from IPython.display import display\n",
    "\n",
    "import nltk\n",
    "from nltk.stem import WordNetLemmatizer\n",
    "from nltk.tokenize import RegexpTokenizer\n",
    "from nltk.corpus import stopwords\n",
    "\n",
    "from transformers import TFCamembertModel, CamembertTokenizer, CamembertConfig\n",
    "# config = CamembertConfig.from_pretrained(\"camembert-base\", output_hidden_states=False)\n",
    "# camembert = TFCamembertModel.from_pretrained(\"camembert-base\", config=config)\n",
    "camembert = TFCamembertModel.from_pretrained(\"camembert-base\")\n",
    "tokenizer = CamembertTokenizer.from_pretrained(\"camembert-base\")\n",
    "\n",
    "from matplotlib import pyplot as plt"
   ]
  },
  {
   "cell_type": "code",
   "execution_count": 4,
   "metadata": {},
   "outputs": [],
   "source": [
    "\n",
    "# TODO :\n",
    "# faire une base d'evaluation en plus de train et test\n",
    "# implementer un systeme d'epoch complet avec tf.dataset\n",
    "# ajouter les données non supervisées au discriminateur => extraction des feature des texte non labelisé à faire\n",
    "# annulation de la loss du label parametrable (lors de l'utilisation des data non supervisé), faisable en ajoutant des boolean au discriminateur faisant office de mask\n",
    "# Masking loss : https://stackoverflow.com/questions/64130293/custom-loss-function-in-keras-with-masking-array-as-input\n",
    "\n",
    "#multi output loss https://datascience.stackexchange.com/questions/86700/custom-loss-function-with-multiple-outputs-in-tensorflow\n",
    "\n",
    "# https://ledatascientist.com/analyse-de-sentiments-avec-camembert/\n",
    "# https://ledatascientist.com/introduction-a-la-categorisation-de-textes/\n",
    "# https://www.kaggle.com/houssemayed/camembert-for-french-tweets-classification\n",
    "# https://lbourdois.github.io/blog/nlp/BERT/\n"
   ]
  },
  {
   "cell_type": "markdown",
   "metadata": {},
   "source": [
    "Definition des models"
   ]
  },
  {
   "cell_type": "code",
   "execution_count": 5,
   "metadata": {},
   "outputs": [
    {
     "data": {
      "text/plain": [
       "array([[-0.00506864,  0.03288577,  0.10317481, ..., -0.11409686,\n",
       "        -0.0644333 , -0.04663153],\n",
       "       [-0.00957023,  0.01769341,  0.11609352, ..., -0.12855044,\n",
       "        -0.06759973, -0.05530701],\n",
       "       [-0.01601247,  0.00745936,  0.09931052, ..., -0.11751904,\n",
       "        -0.03361285, -0.02913235],\n",
       "       [ 0.03644988,  0.03005837,  0.13093765, ..., -0.08100408,\n",
       "        -0.03284521, -0.09860273]], dtype=float32)"
      ]
     },
     "metadata": {},
     "output_type": "display_data"
    }
   ],
   "source": [
    "class CustomCamemBERT(tf.keras.Model):\n",
    "\tdef __init__(self, camembert, tokenizer):\n",
    "\t\tsuper().__init__()\n",
    "\t\tself.tokenizer = tokenizer\n",
    "\t\tself.cam = camembert\n",
    "\t\tself.GAP = GlobalAveragePooling1D()\n",
    "\t\t# self.GAP = Flatten()\n",
    "\n",
    "\tdef call(self, inputs):\n",
    "\t\tl = tf.reshape(tf.convert_to_tensor(()), (0, 768 * 1))\n",
    "\t\tfor sentence in inputs:\n",
    "\t\t\t# print(\"\\nSentence:\", sentence)\n",
    "\t\t\ttokenized = tokenizer.tokenize(sentence)\n",
    "\t\t\t# print(tokenized)\n",
    "\t\t\tencoded_sentence = tf.constant([tokenizer.encode(tokenized)], dtype=tf.int32)\n",
    "\t\t\t# print(\"Sentence encoded:\", encoded_sentence.numpy())\n",
    "\t\t\tx = self.cam(encoded_sentence).last_hidden_state\n",
    "\t\t\t# print(x.shape)\n",
    "\t\t\tx = x[:,0,:]\n",
    "\t\t\t# x = self.GAP(x)\n",
    "\t\t\t# x = tf.reduce_mean(x, axis=1)\n",
    "\t\t\t# print(\"x\", x)\n",
    "\t\t\tl = tf.concat([l, x], 0)\n",
    "\t\t# print(\"l\", l)\n",
    "\t\treturn l\n",
    "\n",
    "# tokenized_sentence = tokenizer.tokenize(\"J'aime le camembert !\")\n",
    "# encoded_sentence = tf.constant([tokenizer.encode(tokenizer.tokenize(\"J'aime le camembert !\"))], dtype=tf.int32)\n",
    "# print(encoded_sentence)\n",
    "# camembert(encoded_sentence)\n",
    "\n",
    "NLP_model = CustomCamemBERT(camembert, tokenizer)\n",
    "NLP_model.trainable = False\n",
    "\n",
    "# display(model(\"J'aime le camembert !\"))\n",
    "features = NLP_model([\"J'adore le fromage\", \"J'aime le fromage\", \"J'aime pas le fromage\", \"Je déteste le fromage\"])\n",
    "# features = NLP_model([\"femme\", \"homme\", \"roi\", \"renne\"])\n",
    "features = features.numpy()\n",
    "display(features)\n",
    "# TODO : tester le distance de ces deux vecteurs avec 2 autre \"je deteste le camenbert\" et \"j'adore le camenbert\""
   ]
  },
  {
   "cell_type": "code",
   "execution_count": 6,
   "metadata": {},
   "outputs": [
    {
     "data": {
      "text/plain": [
       "array([[0.       , 0.2681543, 0.4545043, 1.2075024],\n",
       "       [0.2681543, 0.       , 0.3993235, 1.2603542],\n",
       "       [0.4545043, 0.3993235, 0.       , 1.3251797],\n",
       "       [1.2075024, 1.2603542, 1.3251797, 0.       ]], dtype=float32)"
      ]
     },
     "execution_count": 6,
     "metadata": {},
     "output_type": "execute_result"
    }
   ],
   "source": [
    "features.shape\n",
    "# for i in range(len(features)):\n",
    "# \tdisplay(np.sqrt(np.sum((features[1] - features[i]) ** 2)))\n",
    "\n",
    "np.sqrt(np.sum((features[:, np.newaxis, :] - features[np.newaxis, :, :]) ** 2, axis = -1))"
   ]
  },
  {
   "cell_type": "markdown",
   "metadata": {},
   "source": [
    "1. Préparation des données et feature extraction"
   ]
  },
  {
   "cell_type": "code",
   "execution_count": 7,
   "metadata": {},
   "outputs": [],
   "source": [
    "if(os.path.isfile('./featured.csv')):\n",
    "    sup = np.genfromtxt('featured.csv', delimiter=',')\n",
    "else:\n",
    "    sup = pd.read_csv(\"./supervise.csv\")[[\"text\", \"label_shufan\"]]\n",
    "    features = NLP_model(sup[[\"text\"]].to_numpy().reshape(-1,).tolist())\n",
    "    features = features.numpy()\n",
    "    labels = np.array([sup[\"label_shufan\"]]).T\n",
    "    sup = np.concatenate([labels, features], axis=1)\n",
    "    np.savetxt('featured.csv', sup, delimiter=\",\")\n"
   ]
  },
  {
   "cell_type": "code",
   "execution_count": 8,
   "metadata": {},
   "outputs": [
    {
     "data": {
      "text/plain": [
       "(244, 769)"
      ]
     },
     "execution_count": 8,
     "metadata": {},
     "output_type": "execute_result"
    }
   ],
   "source": [
    "sup.shape"
   ]
  },
  {
   "cell_type": "code",
   "execution_count": 9,
   "metadata": {},
   "outputs": [],
   "source": [
    "np.savetxt('featured.csv', sup, delimiter=\",\")"
   ]
  },
  {
   "cell_type": "code",
   "execution_count": 1,
   "metadata": {},
   "outputs": [],
   "source": [
    "def generate_noise(n_batch, latent_dim):\n",
    "    \treturn np.random.randn(latent_dim * n_batch).reshape((n_batch, latent_dim))\n",
    " \n",
    "def generate_fake_samples(n_batch, labelN, generator, latent_dim):\n",
    "\txlabels = np.repeat(labelN, n_batch)\n",
    "\tylabels = np.repeat(2, n_batch)\n",
    "\tX_fake = generator([generate_noise(n_batch, latent_dim), xlabels])\n",
    "\ty_fake = ylabels.reshape((n_batch, -1))\n",
    "\treturn X_fake, y_fake\n",
    "\n",
    "def select_real_samples(n_batch, labelN, dataset):\n",
    "\tdataset = dataset[dataset[:, 0] == labelN, :]\n",
    "\tind = np.random.choice(len(dataset), size=n_batch, replace=False)\n",
    "\tlabels = np.repeat(labelN, n_batch)\n",
    "\tX_real = np.array(dataset[ind, 1:].tolist())\n",
    "\ty_real =  labels.reshape((n_batch, -1))\n",
    "\treturn X_real, y_real\n",
    "\n",
    "def train_d(discriminator, dataset, n_batch):\n",
    "\t# (n_batch, 768), ([label, validité])\n",
    "\tX_fake, y_fake = generate_fake_samples(n_batch, 0, generator=G, latent_dim=100)\n",
    "\td_fake_0 = discriminator.train_on_batch(X_fake, y_fake)\n",
    "\n",
    "\tX_fake, y_fake = generate_fake_samples(n_batch, 1, generator=G, latent_dim=100)\n",
    "\td_fake_1 = discriminator.train_on_batch(X_fake, y_fake)\n",
    "\n",
    "\tX_real, y_real = select_real_samples(n_batch, 0, dataset=dataset)\n",
    "\td_real_0 = discriminator.train_on_batch(X_real, y_real)\n",
    "\n",
    "\tX_real, y_real = select_real_samples(n_batch, 1, dataset=dataset)\n",
    "\td_real_1 = discriminator.train_on_batch(X_real, y_real)\n",
    "\n",
    "\treturn (1 / 4) * (d_fake_0[0] + d_fake_1[0] + d_real_0[0] + d_real_1[0])\n",
    "\n",
    "def train_g(gan, n_batch):\n",
    "\tlabels = np.repeat(1, n_batch)\n",
    "\tnoise = generate_noise(n_batch, latent_dim)\n",
    "\tg_loss_1 = gan.train_on_batch([noise, labels], labels.reshape((n_batch, -1)))\n",
    "\n",
    "\tlabels = np.repeat(0, n_batch)\n",
    "\tnoise = generate_noise(n_batch, latent_dim)\n",
    "\tg_loss_0 = gan.train_on_batch([noise, labels], labels.reshape((n_batch, -1)))\n",
    "\n",
    "\treturn (1 / 2) * (g_loss_1[0] + g_loss_0[0])"
   ]
  },
  {
   "cell_type": "code",
   "execution_count": 12,
   "metadata": {},
   "outputs": [
    {
     "data": {
      "text/plain": [
       "array([1., 1., 1., 1., 1., 1., 1., 1., 1., 1., 1., 1., 1., 1., 1., 1., 1.,\n",
       "       1., 1., 0., 0., 0., 0., 0., 0., 0., 0., 0., 0., 0., 0., 0., 0., 0.,\n",
       "       0., 0., 0., 0.])"
      ]
     },
     "execution_count": 12,
     "metadata": {},
     "output_type": "execute_result"
    }
   ],
   "source": [
    "sup_train = np.concatenate([sup[sup[:,0] == 1][0:19], sup[sup[:,0] == 0][0:19]])\n",
    "sup_test  = np.concatenate([sup[sup[:,0] == 1][19:38], sup[sup[:,0] == 0][19:38]])\n",
    "sup_test.shape, sup_train.shape\n",
    "sup_test[:,0]\n",
    "sup_train[:,0]"
   ]
  },
  {
   "cell_type": "code",
   "execution_count": 369,
   "metadata": {},
   "outputs": [],
   "source": [
    "tf.config.run_functions_eagerly(False)\n",
    "\n",
    "@tf.function\n",
    "def label_acc(y_true, y_pred): return  tf.keras.metrics.binary_accuracy(y_true[:,0], y_pred[:,0])\n",
    "\n",
    "@tf.function\n",
    "def reality_acc(y_true, y_pred): return tf.keras.metrics.binary_accuracy(y_true[:,1], y_pred[:,1])\n",
    "\n",
    "@tf.function\n",
    "def label_acc_g(y_true, y_pred): return  tf.keras.metrics.binary_accuracy(y_true[:,0], 1 - y_pred[:,0]) #\n",
    "\n",
    "@tf.function\n",
    "def reality_acc_g(y_true, y_pred): return tf.keras.metrics.binary_accuracy(y_true[:,1], 1 - y_pred[:,1])\n",
    "\n",
    "@tf.function\n",
    "def label_loss(y_true, y_pred): return tf.keras.losses.binary_crossentropy(y_true[:,0], y_pred[:,0])\n",
    "\n",
    "@tf.function\n",
    "def reality_loss(y_true, y_pred): return tf.keras.losses.binary_crossentropy(y_true[:,1], y_pred[:,1])\n",
    "\n",
    "@tf.function\n",
    "def label_loss_g(y_true, y_pred): return tf.keras.losses.binary_crossentropy(y_true[:,0], 1 - y_pred[:,0]) #\n",
    "\n",
    "@tf.function\n",
    "def reality_loss_g(y_true, y_pred): return tf.keras.losses.binary_crossentropy(y_true[:,1], 1 - y_pred[:,1])\n",
    "\n",
    "@tf.function\n",
    "def discriminator_loss(y_true, y_pred):\n",
    "\tl_loss_p = 0.75\n",
    "\tloss_l = label_loss(y_true, y_pred)\n",
    "\tloss_r = reality_loss(y_true, y_pred)\n",
    "\treturn ( l_loss_p * loss_l ) + ( (1 - l_loss_p) * loss_r )\n",
    "\n",
    "@tf.function\n",
    "def generator_loss(y_true, y_pred):\n",
    "\tl_loss_p = 0.25\n",
    "\tloss_l = label_loss(y_true, 1 - y_pred)\n",
    "\tloss_r = reality_loss(y_true, 1 - y_pred)\n",
    "\treturn ( l_loss_p * loss_l ) + ( (1 - l_loss_p) * loss_r )"
   ]
  },
  {
   "cell_type": "code",
   "execution_count": 102,
   "metadata": {},
   "outputs": [],
   "source": [
    "def generator(latent_dim):\n",
    "\tnoise = Input(shape=(latent_dim,), name=\"noise_input\", dtype=tf.float32)\n",
    "\tlabel = Input(shape=(1,), name=\"label_input\", dtype=tf.float32) \n",
    "\n",
    "\tlabel_embedding = Flatten()(Embedding(2, latent_dim, name=\"label_embeding\")(label))\n",
    "\tmodel_input = Multiply(name=\"mult_label_noise\")([noise, label_embedding])\n",
    "\n",
    "\tx = Dense(256, input_dim=latent_dim)(model_input)\n",
    "\tx = Dropout(0.2)(x)\n",
    "\tx = Dense(512, input_dim=latent_dim)(x)\n",
    "\tout = Dense(768, kernel_initializer=\"random_uniform\", name=\"Generated_Hidden_rep\")(x)\n",
    "\n",
    "\treturn Model([noise, label], out, name=\"Generator\")\n",
    "\n",
    "def discriminator():\n",
    "\thidden_rep = Input(shape=(768,), dtype=tf.float32, name=\"Hidden_rep_Input\")\n",
    "\tx = Dense(256)(hidden_rep)\n",
    "\tx = Dropout(0.2)(x)\n",
    "\tx = Dense(128)(x)\n",
    "\tout = Dense(3, activation=\"softmax\", name=\"Prediction\")(x)    \n",
    "\n",
    "\treturn Model(hidden_rep, out, name=\"Discriminator\")\n",
    "\n",
    "\n",
    "D = discriminator()\n",
    "D.compile(loss=tf.keras.losses.SparseCategoricalCrossentropy(), metrics=[\"accuracy\"], optimizer=tf.keras.optimizers.SGD(learning_rate=0.0001))\n",
    "D.trainable = False\n",
    "\n",
    "latent_dim = 100\n",
    "G = generator(latent_dim)\n",
    "G.compile()\n",
    "\n",
    "noise = Input(shape=(latent_dim,))\n",
    "label = Input(shape=(1,))\n",
    "hidden_rep = G([noise, label])\n",
    "validity = D(hidden_rep)\n",
    "\n",
    "GAN = Model([noise, label], validity, name=\"GAN\")\n",
    "GAN.compile(loss=tf.keras.losses.SparseCategoricalCrossentropy(), metrics=[\"accuracy\"], optimizer=tf.keras.optimizers.SGD(learning_rate=0.0001))\n",
    "\n",
    "hist = []"
   ]
  },
  {
   "cell_type": "code",
   "execution_count": 103,
   "metadata": {},
   "outputs": [
    {
     "data": {
      "image/png": "[encoded data removed]",
      "text/plain": [
       "<Figure size 2560x720 with 2 Axes>"
      ]
     },
     "metadata": {},
     "output_type": "display_data"
    }
   ],
   "source": [
    "l = np.repeat(1, 1)\n",
    "n = generate_noise(1, latent_dim)\n",
    "pred_avant = G.predict([n, l])\n",
    "\n",
    "fig, axs = plt.subplots(1, 2, sharey=True, figsize=(16*2, 9), dpi=80)\n",
    "axs[0].bar(range(768), sup[24,1:])\n",
    "axs[0].set(title='Réel')\n",
    "axs[1].bar(range(768), pred_avant[0])\n",
    "axs[1].set(title='Généré')\n",
    "plt.show()"
   ]
  },
  {
   "cell_type": "code",
   "execution_count": 104,
   "metadata": {},
   "outputs": [
    {
     "name": "stdout",
     "output_type": "stream",
     "text": [
      "0 [1.1, 1.15, array([1.19, 0.42]), array([1.19, 0.34]), array([1.1 , 0.45]), array([1.1 , 0.45])]\n",
      "1 [1.09, 1.12, array([1.18, 0.45]), array([1.19, 0.37]), array([1.1 , 0.45]), array([1.1 , 0.45])]\n",
      "2 [1.09, 1.15, array([1.18, 0.47]), array([1.19, 0.39]), array([1.1 , 0.45]), array([1.1 , 0.45])]\n",
      "3 [1.11, 1.14, array([1.18, 0.47]), array([1.18, 0.39]), array([1.1 , 0.45]), array([1.1 , 0.45])]\n",
      "4 [1.1, 1.14, array([1.18, 0.47]), array([1.18, 0.42]), array([1.1 , 0.45]), array([1.1 , 0.45])]\n",
      "5 [1.1, 1.15, array([1.17, 0.47]), array([1.18, 0.42]), array([1.1 , 0.45]), array([1.1 , 0.45])]\n",
      "6 [1.1, 1.15, array([1.17, 0.47]), array([1.18, 0.42]), array([1.1 , 0.45]), array([1.1 , 0.45])]\n",
      "7 [1.1, 1.15, array([1.17, 0.47]), array([1.17, 0.42]), array([1.1 , 0.45]), array([1.1 , 0.45])]\n",
      "8 [1.09, 1.11, array([1.17, 0.47]), array([1.17, 0.42]), array([1.1 , 0.45]), array([1.1 , 0.45])]\n",
      "9 [1.1, 1.17, array([1.16, 0.47]), array([1.17, 0.42]), array([1.1 , 0.45]), array([1.1 , 0.45])]\n",
      "10 [1.09, 1.14, array([1.16, 0.47]), array([1.17, 0.42]), array([1.1 , 0.45]), array([1.1 , 0.45])]\n",
      "11 [1.09, 1.17, array([1.16, 0.47]), array([1.16, 0.42]), array([1.1 , 0.45]), array([1.1 , 0.45])]\n",
      "12 [1.1, 1.11, array([1.15, 0.47]), array([1.16, 0.42]), array([1.1 , 0.45]), array([1.1 , 0.45])]\n",
      "13 [1.1, 1.14, array([1.15, 0.5 ]), array([1.16, 0.42]), array([1.1 , 0.45]), array([1.1 , 0.45])]\n",
      "14 [1.1, 1.11, array([1.15, 0.5 ]), array([1.15, 0.42]), array([1.1 , 0.45]), array([1.1 , 0.45])]\n",
      "15 [1.1, 1.16, array([1.15, 0.5 ]), array([1.15, 0.42]), array([1.1 , 0.45]), array([1.1 , 0.45])]\n",
      "16 [1.09, 1.09, array([1.14, 0.5 ]), array([1.15, 0.45]), array([1.1 , 0.45]), array([1.1 , 0.45])]\n",
      "17 [1.1, 1.15, array([1.14, 0.5 ]), array([1.15, 0.45]), array([1.1 , 0.45]), array([1.1 , 0.45])]\n",
      "18 [1.09, 1.13, array([1.14, 0.5 ]), array([1.15, 0.47]), array([1.1 , 0.45]), array([1.1 , 0.45])]\n",
      "19 [1.1, 1.11, array([1.14, 0.5 ]), array([1.14, 0.47]), array([1.1 , 0.45]), array([1.1 , 0.45])]\n",
      "20 [1.1, 1.14, array([1.14, 0.5 ]), array([1.14, 0.47]), array([1.1 , 0.45]), array([1.1 , 0.45])]\n",
      "21 [1.1, 1.13, array([1.13, 0.5 ]), array([1.14, 0.47]), array([1.1 , 0.45]), array([1.1 , 0.45])]\n",
      "22 [1.1, 1.11, array([1.13, 0.5 ]), array([1.14, 0.47]), array([1.1 , 0.45]), array([1.1 , 0.45])]\n",
      "23 [1.1, 1.1, array([1.13, 0.5 ]), array([1.13, 0.47]), array([1.1, 0.5]), array([1.1, 0.5])]\n",
      "24 [1.1, 1.12, array([1.13, 0.5 ]), array([1.13, 0.47]), array([1.1, 0.5]), array([1.1, 0.5])]\n",
      "25 [1.09, 1.1, array([1.12, 0.5 ]), array([1.13, 0.47]), array([1.1, 0.5]), array([1.1, 0.5])]\n",
      "26 [1.1, 1.12, array([1.12, 0.5 ]), array([1.13, 0.47]), array([1.1, 0.5]), array([1.1, 0.5])]\n",
      "27 [1.1, 1.12, array([1.12, 0.5 ]), array([1.12, 0.5 ]), array([1.1, 0.5]), array([1.1, 0.5])]\n",
      "28 [1.1, 1.1, array([1.12, 0.5 ]), array([1.12, 0.5 ]), array([1.1, 0.5]), array([1.1, 0.5])]\n",
      "29 [1.1, 1.11, array([1.11, 0.5 ]), array([1.12, 0.5 ]), array([1.1, 0.5]), array([1.1, 0.5])]\n",
      "30 [1.1, 1.12, array([1.11, 0.5 ]), array([1.12, 0.5 ]), array([1.1, 0.5]), array([1.1, 0.5])]\n",
      "31 [1.1, 1.12, array([1.11, 0.5 ]), array([1.12, 0.5 ]), array([1.1, 0.5]), array([1.1, 0.5])]\n",
      "32 [1.1, 1.13, array([1.11, 0.5 ]), array([1.11, 0.5 ]), array([1.1, 0.5]), array([1.1, 0.5])]\n",
      "33 [1.1, 1.08, array([1.11, 0.5 ]), array([1.11, 0.5 ]), array([1.1, 0.5]), array([1.1, 0.5])]\n",
      "34 [1.1, 1.12, array([1.1, 0.5]), array([1.11, 0.5 ]), array([1.1, 0.5]), array([1.1, 0.5])]\n",
      "35 [1.09, 1.11, array([1.1, 0.5]), array([1.11, 0.5 ]), array([1.1, 0.5]), array([1.1, 0.5])]\n",
      "36 [1.11, 1.09, array([1.1, 0.5]), array([1.1, 0.5]), array([1.1, 0.5]), array([1.1, 0.5])]\n",
      "37 [1.1, 1.1, array([1.1, 0.5]), array([1.1, 0.5]), array([1.1, 0.5]), array([1.1, 0.5])]\n",
      "38 [1.1, 1.14, array([1.09, 0.5 ]), array([1.1, 0.5]), array([1.1, 0.5]), array([1.1, 0.5])]\n",
      "39 [1.09, 1.1, array([1.09, 0.5 ]), array([1.1, 0.5]), array([1.1, 0.5]), array([1.1, 0.5])]\n",
      "40 [1.1, 1.11, array([1.09, 0.5 ]), array([1.1, 0.5]), array([1.1, 0.5]), array([1.1, 0.5])]\n",
      "41 [1.09, 1.1, array([1.09, 0.5 ]), array([1.09, 0.5 ]), array([1.1, 0.5]), array([1.1, 0.5])]\n",
      "42 [1.1, 1.12, array([1.09, 0.5 ]), array([1.09, 0.5 ]), array([1.1, 0.5]), array([1.1, 0.5])]\n",
      "43 [1.1, 1.1, array([1.08, 0.5 ]), array([1.09, 0.5 ]), array([1.1, 0.5]), array([1.1, 0.5])]\n",
      "44 [1.1, 1.1, array([1.08, 0.5 ]), array([1.09, 0.5 ]), array([1.1, 0.5]), array([1.1, 0.5])]\n",
      "45 [1.1, 1.1, array([1.08, 0.5 ]), array([1.09, 0.5 ]), array([1.1, 0.5]), array([1.1, 0.5])]\n",
      "46 [1.1, 1.11, array([1.08, 0.5 ]), array([1.08, 0.5 ]), array([1.1, 0.5]), array([1.1, 0.5])]\n",
      "47 [1.1, 1.11, array([1.08, 0.5 ]), array([1.08, 0.5 ]), array([1.1, 0.5]), array([1.1, 0.5])]\n",
      "48 [1.1, 1.07, array([1.07, 0.5 ]), array([1.08, 0.5 ]), array([1.1, 0.5]), array([1.1, 0.5])]\n",
      "49 [1.1, 1.09, array([1.07, 0.5 ]), array([1.08, 0.5 ]), array([1.1, 0.5]), array([1.1, 0.5])]\n",
      "50 [1.09, 1.11, array([1.07, 0.5 ]), array([1.08, 0.5 ]), array([1.1, 0.5]), array([1.1, 0.5])]\n",
      "51 [1.1, 1.09, array([1.07, 0.5 ]), array([1.08, 0.5 ]), array([1.1, 0.5]), array([1.1, 0.5])]\n",
      "52 [1.08, 1.08, array([1.07, 0.5 ]), array([1.07, 0.5 ]), array([1.1, 0.5]), array([1.1, 0.5])]\n",
      "53 [1.09, 1.11, array([1.07, 0.5 ]), array([1.07, 0.5 ]), array([1.1, 0.5]), array([1.1, 0.5])]\n",
      "54 [1.1, 1.07, array([1.06, 0.5 ]), array([1.07, 0.5 ]), array([1.1, 0.5]), array([1.1, 0.5])]\n",
      "55 [1.1, 1.08, array([1.06, 0.5 ]), array([1.07, 0.5 ]), array([1.1, 0.5]), array([1.1, 0.5])]\n",
      "56 [1.09, 1.09, array([1.06, 0.5 ]), array([1.07, 0.5 ]), array([1.1, 0.5]), array([1.1, 0.5])]\n",
      "57 [1.09, 1.08, array([1.06, 0.5 ]), array([1.06, 0.5 ]), array([1.1, 0.5]), array([1.1, 0.5])]\n",
      "58 [1.1, 1.07, array([1.06, 0.5 ]), array([1.06, 0.5 ]), array([1.1, 0.5]), array([1.1, 0.5])]\n",
      "59 [1.1, 1.09, array([1.05, 0.5 ]), array([1.06, 0.5 ]), array([1.1, 0.5]), array([1.1, 0.5])]\n",
      "60 [1.1, 1.09, array([1.05, 0.5 ]), array([1.06, 0.5 ]), array([1.1, 0.5]), array([1.1, 0.5])]\n",
      "61 [1.1, 1.09, array([1.05, 0.5 ]), array([1.06, 0.5 ]), array([1.1, 0.5]), array([1.1, 0.5])]\n",
      "62 [1.1, 1.08, array([1.05, 0.5 ]), array([1.06, 0.5 ]), array([1.1, 0.5]), array([1.1, 0.5])]\n",
      "63 [1.09, 1.04, array([1.05, 0.5 ]), array([1.05, 0.5 ]), array([1.1, 0.5]), array([1.1, 0.5])]\n",
      "64 [1.09, 1.07, array([1.05, 0.5 ]), array([1.05, 0.5 ]), array([1.1, 0.5]), array([1.1, 0.5])]\n",
      "65 [1.1, 1.08, array([1.04, 0.5 ]), array([1.05, 0.5 ]), array([1.1, 0.5]), array([1.1, 0.5])]\n",
      "66 [1.09, 1.08, array([1.04, 0.5 ]), array([1.05, 0.5 ]), array([1.1, 0.5]), array([1.1, 0.5])]\n",
      "67 [1.1, 1.06, array([1.04, 0.5 ]), array([1.05, 0.5 ]), array([1.1, 0.5]), array([1.1, 0.5])]\n",
      "68 [1.1, 1.06, array([1.04, 0.5 ]), array([1.05, 0.5 ]), array([1.1, 0.5]), array([1.1, 0.5])]\n",
      "69 [1.1, 1.09, array([1.04, 0.5 ]), array([1.04, 0.5 ]), array([1.1, 0.5]), array([1.1, 0.5])]\n",
      "70 [1.1, 1.05, array([1.04, 0.5 ]), array([1.04, 0.5 ]), array([1.1, 0.5]), array([1.1, 0.5])]\n",
      "71 [1.09, 1.06, array([1.03, 0.5 ]), array([1.04, 0.5 ]), array([1.1, 0.5]), array([1.1, 0.5])]\n",
      "72 [1.1, 1.05, array([1.03, 0.5 ]), array([1.04, 0.5 ]), array([1.1, 0.5]), array([1.1, 0.5])]\n",
      "73 [1.1, 1.07, array([1.03, 0.5 ]), array([1.04, 0.5 ]), array([1.1, 0.5]), array([1.1, 0.5])]\n",
      "74 [1.11, 1.06, array([1.03, 0.5 ]), array([1.04, 0.5 ]), array([1.1, 0.5]), array([1.1, 0.5])]\n",
      "75 [1.1, 1.08, array([1.03, 0.5 ]), array([1.04, 0.5 ]), array([1.1, 0.5]), array([1.1, 0.5])]\n",
      "76 [1.09, 1.07, array([1.03, 0.5 ]), array([1.03, 0.5 ]), array([1.1, 0.5]), array([1.1, 0.5])]\n",
      "77 [1.09, 1.07, array([1.03, 0.5 ]), array([1.03, 0.5 ]), array([1.1, 0.5]), array([1.1, 0.5])]\n",
      "78 [1.1, 1.05, array([1.02, 0.5 ]), array([1.03, 0.5 ]), array([1.1, 0.5]), array([1.1, 0.5])]\n",
      "79 [1.1, 1.09, array([1.02, 0.5 ]), array([1.03, 0.5 ]), array([1.1, 0.5]), array([1.1, 0.5])]\n",
      "80 [1.1, 1.09, array([1.02, 0.5 ]), array([1.03, 0.5 ]), array([1.1, 0.5]), array([1.1, 0.5])]\n",
      "81 [1.1, 1.06, array([1.02, 0.5 ]), array([1.03, 0.5 ]), array([1.1, 0.5]), array([1.1, 0.5])]\n",
      "82 [1.1, 1.06, array([1.02, 0.5 ]), array([1.02, 0.5 ]), array([1.1, 0.5]), array([1.1, 0.5])]\n",
      "83 [1.1, 1.09, array([1.02, 0.5 ]), array([1.02, 0.5 ]), array([1.1, 0.5]), array([1.1, 0.5])]\n",
      "84 [1.1, 1.06, array([1.01, 0.5 ]), array([1.02, 0.5 ]), array([1.1, 0.5]), array([1.1, 0.5])]\n",
      "85 [1.09, 1.07, array([1.01, 0.5 ]), array([1.02, 0.5 ]), array([1.1, 0.5]), array([1.1, 0.5])]\n",
      "86 [1.09, 1.06, array([1.01, 0.5 ]), array([1.02, 0.5 ]), array([1.1, 0.5]), array([1.1, 0.5])]\n",
      "87 [1.1, 1.06, array([1.01, 0.5 ]), array([1.02, 0.5 ]), array([1.1, 0.5]), array([1.1, 0.5])]\n",
      "88 [1.11, 1.08, array([1.01, 0.5 ]), array([1.02, 0.5 ]), array([1.1, 0.5]), array([1.1, 0.5])]\n",
      "89 [1.09, 1.08, array([1.01, 0.5 ]), array([1.01, 0.5 ]), array([1.1, 0.5]), array([1.1, 0.5])]\n",
      "90 [1.1, 1.04, array([1.01, 0.5 ]), array([1.01, 0.5 ]), array([1.1, 0.5]), array([1.1, 0.5])]\n",
      "91 [1.1, 1.03, array([1. , 0.5]), array([1.01, 0.5 ]), array([1.1, 0.5]), array([1.1, 0.5])]\n",
      "92 [1.1, 1.06, array([1. , 0.5]), array([1.01, 0.5 ]), array([1.1, 0.5]), array([1.1, 0.5])]\n",
      "93 [1.11, 1.05, array([1. , 0.5]), array([1.01, 0.5 ]), array([1.1, 0.5]), array([1.1, 0.5])]\n",
      "94 [1.1, 1.07, array([1. , 0.5]), array([1.01, 0.5 ]), array([1.1, 0.5]), array([1.1, 0.5])]\n",
      "95 [1.11, 1.05, array([1. , 0.5]), array([1.01, 0.5 ]), array([1.1, 0.5]), array([1.1, 0.5])]\n",
      "96 [1.1, 1.07, array([1. , 0.5]), array([1. , 0.5]), array([1.1, 0.5]), array([1.1, 0.5])]\n",
      "97 [1.1, 1.03, array([1. , 0.5]), array([1. , 0.5]), array([1.1, 0.5]), array([1.1, 0.5])]\n",
      "98 [1.1, 1.06, array([1. , 0.5]), array([1. , 0.5]), array([1.1, 0.5]), array([1.1, 0.5])]\n",
      "99 [1.1, 1.05, array([0.99, 0.5 ]), array([1. , 0.5]), array([1.1, 0.5]), array([1.1, 0.5])]\n",
      "100 [1.1, 1.05, array([0.99, 0.5 ]), array([1. , 0.5]), array([1.1, 0.5]), array([1.1, 0.5])]\n",
      "101 [1.1, 1.05, array([0.99, 0.5 ]), array([1. , 0.5]), array([1.1, 0.5]), array([1.1, 0.5])]\n",
      "102 [1.09, 1.06, array([0.99, 0.5 ]), array([1. , 0.5]), array([1.1, 0.5]), array([1.1, 0.5])]\n",
      "103 [1.09, 1.05, array([0.99, 0.5 ]), array([1. , 0.5]), array([1.1, 0.5]), array([1.1, 0.5])]\n",
      "104 [1.1, 1.08, array([0.99, 0.5 ]), array([0.99, 0.5 ]), array([1.1, 0.5]), array([1.1, 0.5])]\n",
      "105 [1.09, 1.03, array([0.99, 0.5 ]), array([0.99, 0.5 ]), array([1.1, 0.5]), array([1.1, 0.5])]\n",
      "106 [1.1, 1.06, array([0.99, 0.5 ]), array([0.99, 0.5 ]), array([1.1, 0.5]), array([1.1, 0.5])]\n",
      "107 [1.1, 1.04, array([0.98, 0.5 ]), array([0.99, 0.5 ]), array([1.1, 0.5]), array([1.1, 0.5])]\n",
      "108 [1.1, 1.03, array([0.98, 0.5 ]), array([0.99, 0.5 ]), array([1.1, 0.5]), array([1.1, 0.5])]\n",
      "109 [1.1, 1.03, array([0.98, 0.5 ]), array([0.99, 0.5 ]), array([1.1, 0.5]), array([1.1, 0.5])]\n",
      "110 [1.11, 1.06, array([0.98, 0.5 ]), array([0.99, 0.5 ]), array([1.1, 0.5]), array([1.1, 0.5])]\n",
      "111 [1.09, 1.06, array([0.98, 0.5 ]), array([0.99, 0.5 ]), array([1.1, 0.5]), array([1.1, 0.5])]\n",
      "112 [1.1, 1.06, array([0.98, 0.5 ]), array([0.99, 0.5 ]), array([1.1, 0.5]), array([1.1, 0.5])]\n",
      "113 [1.08, 1.06, array([0.98, 0.5 ]), array([0.98, 0.5 ]), array([1.1, 0.5]), array([1.1, 0.5])]\n",
      "114 [1.1, 1.05, array([0.98, 0.5 ]), array([0.98, 0.5 ]), array([1.1, 0.5]), array([1.1, 0.5])]\n",
      "115 [1.1, 1.02, array([0.97, 0.5 ]), array([0.98, 0.5 ]), array([1.1, 0.5]), array([1.1, 0.5])]\n",
      "116 [1.1, 1.06, array([0.97, 0.5 ]), array([0.98, 0.5 ]), array([1.1, 0.5]), array([1.1, 0.5])]\n",
      "117 [1.09, 1.03, array([0.97, 0.5 ]), array([0.98, 0.5 ]), array([1.1, 0.5]), array([1.1, 0.5])]\n",
      "118 [1.1, 1.04, array([0.97, 0.5 ]), array([0.98, 0.5 ]), array([1.1, 0.5]), array([1.1, 0.5])]\n",
      "119 [1.1, 1.06, array([0.97, 0.5 ]), array([0.98, 0.5 ]), array([1.1, 0.5]), array([1.1, 0.5])]\n",
      "120 [1.1, 1.07, array([0.97, 0.5 ]), array([0.98, 0.5 ]), array([1.1, 0.5]), array([1.1, 0.5])]\n",
      "121 [1.1, 1.02, array([0.97, 0.5 ]), array([0.98, 0.5 ]), array([1.1, 0.5]), array([1.1, 0.5])]\n",
      "122 [1.1, 1.03, array([0.97, 0.5 ]), array([0.97, 0.5 ]), array([1.1, 0.5]), array([1.1, 0.5])]\n",
      "123 [1.11, 1.05, array([0.97, 0.5 ]), array([0.97, 0.5 ]), array([1.1, 0.5]), array([1.1, 0.5])]\n",
      "124 [1.1, 1.05, array([0.96, 0.5 ]), array([0.97, 0.5 ]), array([1.1, 0.5]), array([1.1, 0.5])]\n",
      "125 [1.1, 1.02, array([0.96, 0.5 ]), array([0.97, 0.5 ]), array([1.1, 0.5]), array([1.1, 0.5])]\n",
      "126 [1.1, 1.05, array([0.96, 0.53]), array([0.97, 0.5 ]), array([1.1, 0.5]), array([1.1, 0.5])]\n",
      "127 [1.09, 1.05, array([0.96, 0.53]), array([0.97, 0.5 ]), array([1.1, 0.5]), array([1.1, 0.5])]\n",
      "128 [1.09, 1.05, array([0.96, 0.53]), array([0.97, 0.5 ]), array([1.1, 0.5]), array([1.1, 0.5])]\n",
      "129 [1.1, 1.04, array([0.96, 0.53]), array([0.97, 0.5 ]), array([1.1, 0.5]), array([1.1, 0.5])]\n",
      "130 [1.1, 1.05, array([0.96, 0.53]), array([0.97, 0.5 ]), array([1.1, 0.5]), array([1.1, 0.5])]\n",
      "131 [1.09, 1.03, array([0.96, 0.53]), array([0.96, 0.5 ]), array([1.1, 0.5]), array([1.1, 0.5])]\n",
      "132 [1.09, 1.03, array([0.96, 0.53]), array([0.96, 0.5 ]), array([1.1, 0.5]), array([1.1, 0.5])]\n",
      "133 [1.1, 1.03, array([0.96, 0.53]), array([0.96, 0.5 ]), array([1.1, 0.5]), array([1.1, 0.5])]\n",
      "134 [1.09, 1.05, array([0.95, 0.53]), array([0.96, 0.5 ]), array([1.1, 0.5]), array([1.1, 0.5])]\n",
      "135 [1.1, 1.04, array([0.95, 0.53]), array([0.96, 0.5 ]), array([1.1, 0.5]), array([1.1, 0.5])]\n",
      "136 [1.09, 1.04, array([0.95, 0.53]), array([0.96, 0.5 ]), array([1.1, 0.5]), array([1.1, 0.5])]\n",
      "137 [1.1, 1.02, array([0.95, 0.53]), array([0.96, 0.5 ]), array([1.1, 0.5]), array([1.1, 0.5])]\n",
      "138 [1.1, 1.05, array([0.95, 0.53]), array([0.96, 0.5 ]), array([1.1, 0.5]), array([1.1, 0.5])]\n",
      "139 [1.1, 1.04, array([0.95, 0.53]), array([0.96, 0.5 ]), array([1.1 , 0.45]), array([1.1 , 0.45])]\n",
      "140 [1.1, 1.0, array([0.95, 0.53]), array([0.96, 0.5 ]), array([1.1 , 0.45]), array([1.1 , 0.45])]\n",
      "141 [1.1, 1.03, array([0.95, 0.53]), array([0.95, 0.5 ]), array([1.1 , 0.45]), array([1.1 , 0.45])]\n",
      "142 [1.1, 1.04, array([0.95, 0.53]), array([0.95, 0.5 ]), array([1.1 , 0.45]), array([1.1 , 0.45])]\n",
      "143 [1.1, 1.06, array([0.95, 0.53]), array([0.95, 0.5 ]), array([1.1 , 0.45]), array([1.1 , 0.45])]\n",
      "144 [1.1, 1.0, array([0.94, 0.53]), array([0.95, 0.5 ]), array([1.1, 0.4]), array([1.1, 0.4])]\n",
      "145 [1.1, 1.02, array([0.94, 0.53]), array([0.95, 0.5 ]), array([1.1, 0.4]), array([1.1, 0.4])]\n",
      "146 [1.09, 1.06, array([0.94, 0.53]), array([0.95, 0.5 ]), array([1.1, 0.4]), array([1.1, 0.4])]\n",
      "147 [1.11, 1.0, array([0.94, 0.53]), array([0.95, 0.5 ]), array([1.1, 0.4]), array([1.1, 0.4])]\n",
      "148 [1.09, 1.03, array([0.94, 0.53]), array([0.95, 0.5 ]), array([1.1, 0.4]), array([1.1, 0.4])]\n",
      "149 [1.09, 1.0, array([0.94, 0.53]), array([0.95, 0.5 ]), array([1.1, 0.4]), array([1.1, 0.4])]\n",
      "150 [1.1, 1.02, array([0.94, 0.53]), array([0.95, 0.5 ]), array([1.1, 0.4]), array([1.1, 0.4])]\n",
      "151 [1.1, 1.01, array([0.94, 0.53]), array([0.95, 0.5 ]), array([1.1, 0.4]), array([1.1, 0.4])]\n",
      "152 [1.1, 1.02, array([0.94, 0.53]), array([0.94, 0.5 ]), array([1.1, 0.4]), array([1.1, 0.4])]\n",
      "153 [1.1, 1.04, array([0.94, 0.53]), array([0.94, 0.5 ]), array([1.1, 0.4]), array([1.1, 0.4])]\n",
      "154 [1.1, 1.02, array([0.94, 0.53]), array([0.94, 0.5 ]), array([1.1, 0.4]), array([1.1, 0.4])]\n",
      "155 [1.1, 1.0, array([0.93, 0.53]), array([0.94, 0.5 ]), array([1.1, 0.4]), array([1.1, 0.4])]\n",
      "156 [1.11, 1.03, array([0.93, 0.53]), array([0.94, 0.5 ]), array([1.1, 0.4]), array([1.1, 0.4])]\n",
      "157 [1.09, 1.01, array([0.93, 0.53]), array([0.94, 0.5 ]), array([1.1, 0.4]), array([1.1, 0.4])]\n",
      "158 [1.1, 1.03, array([0.93, 0.53]), array([0.94, 0.5 ]), array([1.1, 0.4]), array([1.1, 0.4])]\n",
      "159 [1.1, 1.04, array([0.93, 0.53]), array([0.94, 0.5 ]), array([1.1, 0.4]), array([1.1, 0.4])]\n",
      "160 [1.1, 1.03, array([0.93, 0.53]), array([0.94, 0.5 ]), array([1.1, 0.4]), array([1.1, 0.4])]\n",
      "161 [1.09, 1.03, array([0.93, 0.53]), array([0.94, 0.5 ]), array([1.1, 0.4]), array([1.1, 0.4])]\n",
      "162 [1.1, 1.01, array([0.93, 0.53]), array([0.94, 0.5 ]), array([1.1, 0.4]), array([1.1, 0.4])]\n",
      "163 [1.11, 1.02, array([0.93, 0.53]), array([0.94, 0.5 ]), array([1.1, 0.4]), array([1.1, 0.4])]\n",
      "164 [1.1, 1.03, array([0.93, 0.53]), array([0.93, 0.5 ]), array([1.1, 0.4]), array([1.1, 0.4])]\n",
      "165 [1.1, 0.98, array([0.93, 0.53]), array([0.93, 0.5 ]), array([1.1, 0.4]), array([1.1, 0.4])]\n",
      "166 [1.1, 1.04, array([0.93, 0.53]), array([0.93, 0.5 ]), array([1.1, 0.4]), array([1.1, 0.4])]\n",
      "167 [1.1, 1.01, array([0.92, 0.53]), array([0.93, 0.5 ]), array([1.1, 0.4]), array([1.1, 0.4])]\n",
      "168 [1.1, 1.02, array([0.92, 0.53]), array([0.93, 0.5 ]), array([1.1, 0.4]), array([1.1, 0.4])]\n",
      "169 [1.09, 1.01, array([0.92, 0.53]), array([0.93, 0.5 ]), array([1.1, 0.4]), array([1.1, 0.4])]\n",
      "170 [1.1, 1.04, array([0.92, 0.53]), array([0.93, 0.5 ]), array([1.1, 0.4]), array([1.1, 0.4])]\n",
      "171 [1.1, 1.0, array([0.92, 0.53]), array([0.93, 0.5 ]), array([1.1, 0.4]), array([1.1, 0.4])]\n",
      "172 [1.1, 1.02, array([0.92, 0.53]), array([0.93, 0.5 ]), array([1.1, 0.4]), array([1.1, 0.4])]\n",
      "173 [1.11, 1.01, array([0.92, 0.53]), array([0.93, 0.5 ]), array([1.1, 0.4]), array([1.1, 0.4])]\n",
      "174 [1.09, 1.0, array([0.92, 0.53]), array([0.93, 0.5 ]), array([1.1, 0.4]), array([1.1, 0.4])]\n",
      "175 [1.1, 1.03, array([0.92, 0.53]), array([0.93, 0.5 ]), array([1.1, 0.4]), array([1.1, 0.4])]\n",
      "176 [1.09, 1.03, array([0.92, 0.53]), array([0.93, 0.5 ]), array([1.1, 0.4]), array([1.1, 0.4])]\n",
      "177 [1.1, 1.0, array([0.92, 0.53]), array([0.93, 0.5 ]), array([1.1 , 0.35]), array([1.1 , 0.35])]\n",
      "178 [1.1, 0.99, array([0.92, 0.53]), array([0.92, 0.5 ]), array([1.1 , 0.35]), array([1.1 , 0.35])]\n",
      "179 [1.09, 1.04, array([0.92, 0.53]), array([0.92, 0.5 ]), array([1.1 , 0.35]), array([1.1 , 0.35])]\n",
      "180 [1.11, 0.99, array([0.91, 0.53]), array([0.92, 0.5 ]), array([1.1 , 0.35]), array([1.1 , 0.35])]\n",
      "181 [1.11, 0.99, array([0.91, 0.53]), array([0.92, 0.5 ]), array([1.1 , 0.35]), array([1.1 , 0.35])]\n",
      "182 [1.1, 1.02, array([0.91, 0.53]), array([0.92, 0.5 ]), array([1.1 , 0.35]), array([1.1 , 0.35])]\n",
      "183 [1.1, 1.0, array([0.91, 0.53]), array([0.92, 0.5 ]), array([1.1 , 0.35]), array([1.1 , 0.35])]\n",
      "184 [1.1, 1.0, array([0.91, 0.53]), array([0.92, 0.5 ]), array([1.1 , 0.35]), array([1.1 , 0.35])]\n",
      "185 [1.1, 0.99, array([0.91, 0.53]), array([0.92, 0.5 ]), array([1.1 , 0.35]), array([1.1 , 0.35])]\n",
      "186 [1.11, 1.0, array([0.91, 0.53]), array([0.92, 0.5 ]), array([1.1 , 0.35]), array([1.1 , 0.35])]\n",
      "187 [1.1, 1.01, array([0.91, 0.53]), array([0.92, 0.5 ]), array([1.1 , 0.35]), array([1.1 , 0.35])]\n",
      "188 [1.09, 1.0, array([0.91, 0.53]), array([0.92, 0.5 ]), array([1.1 , 0.35]), array([1.1 , 0.35])]\n",
      "189 [1.1, 0.97, array([0.91, 0.53]), array([0.92, 0.5 ]), array([1.1 , 0.35]), array([1.1 , 0.35])]\n",
      "190 [1.1, 0.97, array([0.91, 0.53]), array([0.92, 0.5 ]), array([1.1 , 0.35]), array([1.1 , 0.35])]\n",
      "191 [1.1, 1.0, array([0.91, 0.53]), array([0.92, 0.5 ]), array([1.1 , 0.35]), array([1.1 , 0.35])]\n",
      "192 [1.1, 1.01, array([0.91, 0.53]), array([0.91, 0.5 ]), array([1.1 , 0.35]), array([1.1 , 0.35])]\n",
      "193 [1.09, 1.03, array([0.91, 0.53]), array([0.91, 0.5 ]), array([1.1 , 0.35]), array([1.1 , 0.35])]\n",
      "194 [1.1, 1.0, array([0.9 , 0.53]), array([0.91, 0.5 ]), array([1.1 , 0.35]), array([1.1 , 0.35])]\n",
      "195 [1.1, 1.0, array([0.9 , 0.53]), array([0.91, 0.5 ]), array([1.1 , 0.35]), array([1.1 , 0.35])]\n",
      "196 [1.1, 1.01, array([0.9 , 0.53]), array([0.91, 0.5 ]), array([1.1 , 0.35]), array([1.1 , 0.35])]\n",
      "197 [1.11, 1.01, array([0.9 , 0.53]), array([0.91, 0.5 ]), array([1.1 , 0.35]), array([1.1 , 0.35])]\n",
      "198 [1.1, 0.99, array([0.9 , 0.53]), array([0.91, 0.5 ]), array([1.1 , 0.35]), array([1.1 , 0.35])]\n",
      "199 [1.1, 0.98, array([0.9 , 0.53]), array([0.91, 0.5 ]), array([1.1 , 0.35]), array([1.1 , 0.35])]\n"
     ]
    }
   ],
   "source": [
    "epochs = 200\n",
    "n_batch = 8\n",
    "\n",
    "glabels = np.concatenate([np.repeat(1, 10), np.repeat(0, 10)])\n",
    "gnoise = generate_noise(20, latent_dim)\n",
    "gX = [gnoise, glabels]\n",
    "gY = glabels.T\n",
    "\n",
    "X_train = sup_train[:,1:]\n",
    "labels_train = np.array(sup_train[:,0], dtype=np.float32)\n",
    "y_train = labels_train\n",
    "\n",
    "X_test = sup_test[:,1:]\n",
    "labels_test = np.array(sup_test[:,0], dtype=np.float32)\n",
    "y_test = labels_test\n",
    "\n",
    "for e in range(epochs):\n",
    "\td_loss = train_d(D, sup_train, n_batch)\n",
    "\tg_loss = train_g(GAN, n_batch * 1)\n",
    "\t\n",
    "\ttrain_loss = D.evaluate(X_train, y_train, verbose=0)\n",
    "\ttest_loss = D.evaluate(X_test, y_test, verbose=0)\n",
    "\n",
    "\tgeval = GAN.evaluate(gX, gY, verbose=0)\n",
    "\tdeval = D.evaluate(G.predict(gX), gY, verbose=0)\n",
    "\t\n",
    "\thist.append([d_loss, g_loss, *train_loss, *test_loss, *geval, *deval])\n",
    "\tprint(e, [np.round(g_loss, 2), np.round(d_loss, 2), np.round(train_loss, 2), np.round(test_loss, 2), np.round(geval, 2), np.round(deval, 2)])"
   ]
  },
  {
   "cell_type": "code",
   "execution_count": 105,
   "metadata": {},
   "outputs": [
    {
     "data": {
      "image/png": "[encoded data removed]",
      "text/plain": [
       "<Figure size 3840x720 with 3 Axes>"
      ]
     },
     "metadata": {},
     "output_type": "display_data"
    }
   ],
   "source": [
    "fig, axs = plt.subplots(1, 3, sharey=True, figsize=(16*3, 9), dpi=80)\n",
    "pred_apres = G.predict([n, l])\n",
    "axs[0].bar(range(768), sup[2,1:])\n",
    "axs[0].set(title='Réel')\n",
    "axs[1].bar(range(768), pred_avant[0])\n",
    "axs[1].set(title='Généré avant entrainement')\n",
    "axs[2].bar(range(768), pred_apres[0])\n",
    "axs[2].set(title='GéGénéré après entrainement')\n",
    "plt.show()"
   ]
  },
  {
   "cell_type": "markdown",
   "metadata": {},
   "source": [
    "pour evaluer on reprend la base de donné supervisé, on ballance les feature au discriminateur sans les label et on regarde s'il trouve les meme label et qu'il dit qu'il sont des donné reel (cad données non générées)"
   ]
  },
  {
   "cell_type": "code",
   "execution_count": 106,
   "metadata": {},
   "outputs": [
    {
     "ename": "IndexError",
     "evalue": "index 10 is out of bounds for axis 1 with size 10",
     "output_type": "error",
     "traceback": [
      "\u001b[1;31m---------------------------------------------------------------------------\u001b[0m",
      "\u001b[1;31mIndexError\u001b[0m                                Traceback (most recent call last)",
      "\u001b[1;32m~\\AppData\\Local\\Temp/ipykernel_4596/676392357.py\u001b[0m in \u001b[0;36m<module>\u001b[1;34m\u001b[0m\n\u001b[0;32m     16\u001b[0m \u001b[0maxs\u001b[0m\u001b[1;33m[\u001b[0m\u001b[1;36m1\u001b[0m\u001b[1;33m,\u001b[0m \u001b[1;36m0\u001b[0m\u001b[1;33m]\u001b[0m\u001b[1;33m.\u001b[0m\u001b[0mset\u001b[0m\u001b[1;33m(\u001b[0m\u001b[0mylabel\u001b[0m\u001b[1;33m=\u001b[0m\u001b[1;34m'Reality'\u001b[0m\u001b[1;33m,\u001b[0m \u001b[0mxlabel\u001b[0m\u001b[1;33m=\u001b[0m\u001b[1;34m'Loss'\u001b[0m\u001b[1;33m)\u001b[0m\u001b[1;33m\u001b[0m\u001b[1;33m\u001b[0m\u001b[0m\n\u001b[0;32m     17\u001b[0m \u001b[1;33m\u001b[0m\u001b[0m\n\u001b[1;32m---> 18\u001b[1;33m \u001b[0maxs\u001b[0m\u001b[1;33m[\u001b[0m\u001b[1;36m0\u001b[0m\u001b[1;33m,\u001b[0m \u001b[1;36m1\u001b[0m\u001b[1;33m]\u001b[0m\u001b[1;33m.\u001b[0m\u001b[0mplot\u001b[0m\u001b[1;33m(\u001b[0m\u001b[0mhistnp\u001b[0m\u001b[1;33m[\u001b[0m\u001b[1;33m:\u001b[0m\u001b[1;33m,\u001b[0m\u001b[1;33m[\u001b[0m\u001b[1;36m5\u001b[0m\u001b[1;33m,\u001b[0m\u001b[1;36m5\u001b[0m\u001b[1;33m+\u001b[0m\u001b[1;36m5\u001b[0m\u001b[1;33m]\u001b[0m\u001b[1;33m]\u001b[0m\u001b[1;33m)\u001b[0m\u001b[1;33m\u001b[0m\u001b[1;33m\u001b[0m\u001b[0m\n\u001b[0m\u001b[0;32m     19\u001b[0m \u001b[1;33m\u001b[0m\u001b[0m\n\u001b[0;32m     20\u001b[0m \u001b[0maxs\u001b[0m\u001b[1;33m[\u001b[0m\u001b[1;36m1\u001b[0m\u001b[1;33m,\u001b[0m \u001b[1;36m1\u001b[0m\u001b[1;33m]\u001b[0m\u001b[1;33m.\u001b[0m\u001b[0mplot\u001b[0m\u001b[1;33m(\u001b[0m\u001b[0mhistnp\u001b[0m\u001b[1;33m[\u001b[0m\u001b[1;33m:\u001b[0m\u001b[1;33m,\u001b[0m\u001b[1;33m[\u001b[0m\u001b[1;36m6\u001b[0m\u001b[1;33m,\u001b[0m\u001b[1;36m6\u001b[0m\u001b[1;33m+\u001b[0m\u001b[1;36m5\u001b[0m\u001b[1;33m]\u001b[0m\u001b[1;33m]\u001b[0m\u001b[1;33m)\u001b[0m\u001b[1;33m\u001b[0m\u001b[1;33m\u001b[0m\u001b[0m\n",
      "\u001b[1;31mIndexError\u001b[0m: index 10 is out of bounds for axis 1 with size 10"
     ]
    },
    {
     "data": {
      "image/png": "[encoded data removed]",
      "text/plain": [
       "<Figure size 1600x900 with 4 Axes>"
      ]
     },
     "metadata": {},
     "output_type": "display_data"
    }
   ],
   "source": [
    "histnp = np.asarray(hist)\n",
    "plt.rcParams['axes.facecolor'] = 'black'\n",
    "plt.rcParams['figure.facecolor'] = 'black'\n",
    "COLOR = 'white'\n",
    "plt.rcParams['text.color'] = COLOR\n",
    "plt.rcParams['axes.labelcolor'] = COLOR\n",
    "plt.rcParams['xtick.color'] = COLOR\n",
    "plt.rcParams['ytick.color'] = COLOR\n",
    "\n",
    "w, h = 16, 9\n",
    "fig, axs = plt.subplots(2, 2, figsize=(w, h), dpi=100)\n",
    "axs[0, 0].plot(histnp[:,[3,3+5]])\n",
    "axs[0, 0].set(ylabel='Label')\n",
    "\n",
    "axs[1, 0].plot(histnp[:,[4,4+5]])\n",
    "axs[1, 0].set(ylabel='Reality', xlabel='Loss')\n",
    "\n",
    "axs[0, 1].plot(histnp[:,[5,5+5]])\n",
    "\n",
    "axs[1, 1].plot(histnp[:,[6,6+5]])\n",
    "axs[1, 1].set(xlabel='Accuracy')\n",
    "\n",
    "plt.show()"
   ]
  },
  {
   "cell_type": "code",
   "execution_count": null,
   "metadata": {},
   "outputs": [],
   "source": [
    "histnp = np.asarray(hist)\n",
    "w, h = 8, 9/2\n",
    "\n",
    "plt.figure(figsize=(w, h))\n",
    "plt.title(\"G / D loss\")\n",
    "plt.plot(histnp[:,[12, 17]])\n",
    "plt.show()\n",
    "\n",
    "\n",
    "plt.figure(figsize=(w, h))\n",
    "plt.title(\"G / D ACC label\")\n",
    "plt.plot(histnp[:,[15, 20]])\n",
    "plt.show()\n",
    "\n",
    "plt.figure(figsize=(w, h))\n",
    "plt.title(\"G / D ACC reality\")\n",
    "plt.plot(histnp[:,[16, 21]])\n",
    "plt.show()\n"
   ]
  },
  {
   "cell_type": "code",
   "execution_count": null,
   "metadata": {},
   "outputs": [],
   "source": [
    "histnp = np.asarray(hist)\n",
    "plt.rcParams['axes.facecolor'] = 'black'\n",
    "plt.rcParams['figure.facecolor'] = 'black'\n",
    "COLOR = 'white'\n",
    "plt.rcParams['text.color'] = COLOR\n",
    "plt.rcParams['axes.labelcolor'] = COLOR\n",
    "plt.rcParams['xtick.color'] = COLOR\n",
    "plt.rcParams['ytick.color'] = COLOR\n",
    "\n",
    "w, h = 8, 9/2\n",
    "plt.figure(figsize=(w, h))\n",
    "plt.title(\"GAN D / G loss\")\n",
    "plt.plot(histnp[:,0:2])\n",
    "plt.show()\n",
    "\n",
    "plt.figure(figsize=(w, h))\n",
    "plt.title(\"Train / Test LOSS\")\n",
    "plt.plot(histnp[:,[2,2+5]])\n",
    "plt.show()\n",
    "\n",
    "plt.figure(figsize=(w, h))\n",
    "plt.title(\"Train / Test Label LOSS\")\n",
    "plt.plot(histnp[:,[3,3+5]])\n",
    "plt.show()\n",
    "\n",
    "plt.figure(figsize=(w, h))\n",
    "plt.title(\"Train / Test Reality LOSS\")\n",
    "plt.plot(histnp[:,[4,4+5]])\n",
    "plt.show()\n",
    "\n",
    "plt.figure(figsize=(w, h))\n",
    "plt.title(\"Train / Test Label ACC\")\n",
    "plt.plot(histnp[:,[5,5+5]])\n",
    "plt.show()\n",
    "\n",
    "plt.figure(figsize=(w, h))\n",
    "plt.title(\"Train / Test Reality ACC\")\n",
    "plt.plot(histnp[:,[6,6+5]])\n",
    "plt.show()\n"
   ]
  },
  {
   "cell_type": "code",
   "execution_count": 51,
   "metadata": {},
   "outputs": [
    {
     "data": {
      "text/plain": [
       "array([1, 1, 1, 1, 1, 1, 1, 1, 1, 1, 0, 1, 1, 1, 1, 1, 1, 1, 1, 0, 0, 0,\n",
       "       0, 1, 0, 0, 0, 0, 0, 0, 0, 0, 0, 0, 0, 0, 0, 0], dtype=int64)"
      ]
     },
     "execution_count": 51,
     "metadata": {},
     "output_type": "execute_result"
    }
   ],
   "source": []
  },
  {
   "cell_type": "code",
   "execution_count": 107,
   "metadata": {},
   "outputs": [
    {
     "data": {
      "text/plain": [
       "array([[1., 0.],\n",
       "       [1., 0.],\n",
       "       [1., 0.],\n",
       "       [1., 0.],\n",
       "       [1., 0.],\n",
       "       [1., 0.],\n",
       "       [1., 0.],\n",
       "       [1., 0.],\n",
       "       [1., 0.],\n",
       "       [1., 1.],\n",
       "       [1., 0.],\n",
       "       [1., 0.],\n",
       "       [1., 0.],\n",
       "       [1., 0.],\n",
       "       [1., 0.],\n",
       "       [1., 0.],\n",
       "       [1., 0.],\n",
       "       [1., 0.],\n",
       "       [1., 0.],\n",
       "       [0., 0.],\n",
       "       [0., 0.],\n",
       "       [0., 0.],\n",
       "       [0., 0.],\n",
       "       [0., 0.],\n",
       "       [0., 0.],\n",
       "       [0., 0.],\n",
       "       [0., 0.],\n",
       "       [0., 0.],\n",
       "       [0., 0.],\n",
       "       [0., 0.],\n",
       "       [0., 0.],\n",
       "       [0., 0.],\n",
       "       [0., 0.],\n",
       "       [0., 0.],\n",
       "       [0., 0.],\n",
       "       [0., 0.],\n",
       "       [0., 0.],\n",
       "       [0., 0.]])"
      ]
     },
     "metadata": {},
     "output_type": "display_data"
    },
    {
     "name": "stdout",
     "output_type": "stream",
     "text": [
      "2/2 [==============================] - 0s 3ms/step - loss: 0.9011 - accuracy: 0.5263\n"
     ]
    },
    {
     "data": {
      "text/plain": [
       "[0.9011133909225464, 0.5263158082962036]"
      ]
     },
     "metadata": {},
     "output_type": "display_data"
    },
    {
     "data": {
      "text/plain": [
       "array([[1., 0.],\n",
       "       [1., 0.],\n",
       "       [1., 0.],\n",
       "       [1., 0.],\n",
       "       [1., 0.],\n",
       "       [1., 0.],\n",
       "       [1., 0.],\n",
       "       [1., 0.],\n",
       "       [1., 0.],\n",
       "       [1., 1.],\n",
       "       [1., 0.],\n",
       "       [1., 0.],\n",
       "       [1., 0.],\n",
       "       [1., 0.],\n",
       "       [1., 0.],\n",
       "       [1., 0.],\n",
       "       [1., 0.],\n",
       "       [1., 0.],\n",
       "       [1., 0.],\n",
       "       [0., 0.],\n",
       "       [0., 0.],\n",
       "       [0., 0.],\n",
       "       [0., 0.],\n",
       "       [0., 0.],\n",
       "       [0., 0.],\n",
       "       [0., 0.],\n",
       "       [0., 0.],\n",
       "       [0., 0.],\n",
       "       [0., 0.],\n",
       "       [0., 0.],\n",
       "       [0., 0.],\n",
       "       [0., 0.],\n",
       "       [0., 0.],\n",
       "       [0., 0.],\n",
       "       [0., 0.],\n",
       "       [0., 0.],\n",
       "       [0., 0.],\n",
       "       [0., 0.]])"
      ]
     },
     "metadata": {},
     "output_type": "display_data"
    },
    {
     "data": {
      "text/plain": [
       "0.5263158"
      ]
     },
     "metadata": {},
     "output_type": "display_data"
    }
   ],
   "source": [
    "X = np.array(sup_train[:,1:].tolist())\n",
    "labels = sup_train[:,0]\n",
    "pred = np.argmax(D(X), axis=1)\n",
    "display(np.array([labels, pred]).T)\n",
    "display(D.evaluate(X, labels))\n",
    "\n",
    "pred_ignore_G = np.argmax(D(X)[:, 0:2], axis=1)\n",
    "display(np.array([labels, pred_ignore_G]).T)\n",
    "display(tf.keras.metrics.binary_accuracy(labels, pred_ignore_G).numpy())"
   ]
  },
  {
   "cell_type": "code",
   "execution_count": 56,
   "metadata": {},
   "outputs": [
    {
     "data": {
      "text/plain": [
       "array([[1., 1.],\n",
       "       [1., 0.],\n",
       "       [1., 0.],\n",
       "       [1., 1.],\n",
       "       [1., 2.],\n",
       "       [1., 2.],\n",
       "       [1., 2.],\n",
       "       [1., 1.],\n",
       "       [1., 1.],\n",
       "       [1., 1.],\n",
       "       [1., 1.],\n",
       "       [1., 0.],\n",
       "       [1., 0.],\n",
       "       [1., 1.],\n",
       "       [1., 1.],\n",
       "       [1., 0.],\n",
       "       [1., 1.],\n",
       "       [1., 0.],\n",
       "       [1., 2.],\n",
       "       [0., 1.],\n",
       "       [0., 1.],\n",
       "       [0., 0.],\n",
       "       [0., 0.],\n",
       "       [0., 0.],\n",
       "       [0., 0.],\n",
       "       [0., 0.],\n",
       "       [0., 2.],\n",
       "       [0., 0.],\n",
       "       [0., 2.],\n",
       "       [0., 0.],\n",
       "       [0., 1.],\n",
       "       [0., 0.],\n",
       "       [0., 1.],\n",
       "       [0., 0.],\n",
       "       [0., 0.],\n",
       "       [0., 0.],\n",
       "       [0., 0.],\n",
       "       [0., 0.]])"
      ]
     },
     "metadata": {},
     "output_type": "display_data"
    },
    {
     "name": "stdout",
     "output_type": "stream",
     "text": [
      "2/2 [==============================] - 0s 3ms/step - loss: 1.7710 - accuracy: 0.5789\n"
     ]
    },
    {
     "data": {
      "text/plain": [
       "[1.7709506750106812, 0.5789473652839661]"
      ]
     },
     "metadata": {},
     "output_type": "display_data"
    },
    {
     "data": {
      "text/plain": [
       "array([[1., 1.],\n",
       "       [1., 0.],\n",
       "       [1., 0.],\n",
       "       [1., 1.],\n",
       "       [1., 1.],\n",
       "       [1., 1.],\n",
       "       [1., 1.],\n",
       "       [1., 1.],\n",
       "       [1., 1.],\n",
       "       [1., 1.],\n",
       "       [1., 1.],\n",
       "       [1., 0.],\n",
       "       [1., 0.],\n",
       "       [1., 1.],\n",
       "       [1., 1.],\n",
       "       [1., 0.],\n",
       "       [1., 1.],\n",
       "       [1., 0.],\n",
       "       [1., 1.],\n",
       "       [0., 1.],\n",
       "       [0., 1.],\n",
       "       [0., 0.],\n",
       "       [0., 0.],\n",
       "       [0., 0.],\n",
       "       [0., 0.],\n",
       "       [0., 0.],\n",
       "       [0., 1.],\n",
       "       [0., 0.],\n",
       "       [0., 1.],\n",
       "       [0., 0.],\n",
       "       [0., 1.],\n",
       "       [0., 0.],\n",
       "       [0., 1.],\n",
       "       [0., 0.],\n",
       "       [0., 0.],\n",
       "       [0., 0.],\n",
       "       [0., 0.],\n",
       "       [0., 0.]])"
      ]
     },
     "metadata": {},
     "output_type": "display_data"
    },
    {
     "data": {
      "text/plain": [
       "0.68421054"
      ]
     },
     "metadata": {},
     "output_type": "display_data"
    }
   ],
   "source": [
    "X = np.array(sup_test[:,1:].tolist())\n",
    "labels = sup_test[:,0]\n",
    "pred = np.argmax(D(X), axis=1)\n",
    "display(np.array([labels, pred]).T)\n",
    "display(D.evaluate(X, labels))\n",
    "\n",
    "pred_ignore_G = np.argmax(D(X)[:, 0:2], axis=1)\n",
    "display(np.array([labels, pred_ignore_G]).T)\n",
    "display(tf.keras.metrics.binary_accuracy(labels, pred_ignore_G).numpy())"
   ]
  },
  {
   "cell_type": "code",
   "execution_count": 101,
   "metadata": {},
   "outputs": [
    {
     "data": {
      "text/plain": [
       "array([[[2, 0],\n",
       "        [2, 2],\n",
       "        [2, 0],\n",
       "        ...,\n",
       "        [2, 0],\n",
       "        [2, 2],\n",
       "        [2, 2]]], dtype=int64)"
      ]
     },
     "metadata": {},
     "output_type": "display_data"
    },
    {
     "name": "stdout",
     "output_type": "stream",
     "text": [
      "313/313 [==============================] - 1s 2ms/step - loss: 2980.6018 - accuracy: 0.4119\n"
     ]
    },
    {
     "data": {
      "text/plain": [
       "array([[[2, 2],\n",
       "        [2, 0],\n",
       "        [2, 2],\n",
       "        ...,\n",
       "        [2, 2],\n",
       "        [2, 0],\n",
       "        [2, 2]]], dtype=int64)"
      ]
     },
     "metadata": {},
     "output_type": "display_data"
    },
    {
     "name": "stdout",
     "output_type": "stream",
     "text": [
      "313/313 [==============================] - 1s 2ms/step - loss: 3089.4426 - accuracy: 0.4176\n"
     ]
    },
    {
     "data": {
      "text/plain": [
       "[3089.442626953125, 0.41760000586509705]"
      ]
     },
     "execution_count": 101,
     "metadata": {},
     "output_type": "execute_result"
    }
   ],
   "source": [
    "X, y = generate_fake_samples(10000, 1, G, latent_dim)\n",
    "pred = np.argmax(D(X), axis=1)\n",
    "display(np.array([y, pred[np.newaxis].T]).T)\n",
    "D.evaluate(X, y)\n",
    "X, y = generate_fake_samples(10000, 0, G, latent_dim)\n",
    "pred = np.argmax(D(X), axis=1)\n",
    "display(np.array([y, pred[np.newaxis].T]).T)\n",
    "D.evaluate(X, y)"
   ]
  }
 ],
 "metadata": {
  "interpreter": {
   "hash": "d30491a918b2bb80bddb8df1507fb40d67bf864fa8abf51b7fc41f1e6d55db91"
  },
  "kernelspec": {
   "display_name": "Python 3.9.5 64-bit",
   "language": "python",
   "name": "python3"
  },
  "language_info": {
   "codemirror_mode": {
    "name": "ipython",
    "version": 3
   },
   "file_extension": ".py",
   "mimetype": "text/x-python",
   "name": "python",
   "nbconvert_exporter": "python",
   "pygments_lexer": "ipython3",
   "version": "3.9.5"
  },
  "orig_nbformat": 4
 },
 "nbformat": 4,
 "nbformat_minor": 2
}
